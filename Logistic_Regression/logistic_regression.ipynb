{
 "cells": [
  {
   "metadata": {},
   "cell_type": "markdown",
   "source": [
    "# Logistic Regression\n",
    "\n",
    "This is an example of how to solve a logistic regression problem using gradient descent.\n",
    "\n",
    "Suppose a student wanted to determine their chances of being admitted to a college based on their math SAT and verbal SAT test scores.  This would require a method of predicting classifications of either \"Admitted\" or Not Admitted\" based on a pair of test scores.  Using a two-feature dataset of math SAT and verbal SAT scores and the corresponding admission decision as the label, a logistic regression model is ideal for determining these classifications."
   ],
   "id": "127bcf50b5881d6b"
  },
  {
   "metadata": {},
   "cell_type": "markdown",
   "source": "Import packages",
   "id": "dad2a6e27672541c"
  },
  {
   "metadata": {
    "ExecuteTime": {
     "end_time": "2025-01-15T01:11:12.252585Z",
     "start_time": "2025-01-15T01:11:10.729652Z"
    }
   },
   "cell_type": "code",
   "source": [
    "import numpy as np\n",
    "import pandas as pd\n",
    "import matplotlib.pyplot as plt\n",
    "import math"
   ],
   "id": "5acf347062569ea7",
   "outputs": [],
   "execution_count": 1
  },
  {
   "metadata": {},
   "cell_type": "markdown",
   "source": [
    "Load data from Excel file\n",
    "\n",
    "The dataset has three columns. Column 1 contains the math SAT scores, Column 2 contains the verbal SAT scores, and Column 3 contains the associated label (1 -> Admitted, 0 -> Not Admitted)"
   ],
   "id": "2674876da2335ff4"
  },
  {
   "metadata": {
    "ExecuteTime": {
     "end_time": "2025-01-15T01:11:12.897211Z",
     "start_time": "2025-01-15T01:11:12.268168Z"
    }
   },
   "cell_type": "code",
   "source": [
    "data_frame = pd.read_excel('logReg_data.xlsx')\n",
    "\n",
    "# syntax notes: the outer square brackets indicate the columns (or second dimension) of the data\n",
    "# Use Pandas dataframe to create Numpy array\n",
    "data = data_frame[['Exam1', 'Exam2', 'Admission Decision']].to_numpy()\n",
    "\n",
    "print('shape of sample data:', data.shape) # Check if data is 100 by 3\n",
    "\n",
    "#Load data into X_train a numpy array of shape (100,2) and y_train of shape (100,1)\n",
    "X_train = data[:, :2]                 # Get all rows and first two columns of dataset: 'Exam1', 'Exam2'\n",
    "y_train = data[:, -1].reshape(-1, 1)  # Get all rows and last column of dataset: 'Admission Decision',\n",
    "                                      # then reshape the row vector into a column vector\n",
    "                                            # note: using -1 in reshape infers the length for that dimension\n",
    "                                            # In this case, an equivalent statement would be y_train.reshape(100, 1)\n",
    "# shape checks:\n",
    "# print(f'X_train shape: {X_train.shape} {X_train}')\n",
    "# print(f'X_train shape: {X_train.shape}')\n",
    "# print(f'y_train shape: {y_train.shape} {y_train}')\n",
    "# print(f'y_train shape: {y_train.shape}')\n",
    "\n",
    "x_class0 = X_train[y_train.flatten() == 0]\n",
    "x_class1 = X_train[y_train.flatten() == 1]\n",
    "\n",
    "# Create scatter plot\n",
    "plt.scatter(x_class0[:, 0], x_class0[:, 1], color='blue', label='Not Admitted')\n",
    "plt.scatter(x_class1[:, 0], x_class1[:, 1], color='red', label='Admitted')\n",
    "\n",
    "# Add labels and legend\n",
    "plt.xlabel('Exam1 Score')\n",
    "plt.ylabel('Exam2 Score')\n",
    "plt.legend()"
   ],
   "id": "2a197df8bdbc8e8d",
   "outputs": [
    {
     "name": "stdout",
     "output_type": "stream",
     "text": [
      "shape of sample data: (100, 3)\n"
     ]
    },
    {
     "data": {
      "text/plain": [
       "<matplotlib.legend.Legend at 0x1ca7b76f3e0>"
      ]
     },
     "execution_count": 2,
     "metadata": {},
     "output_type": "execute_result"
    },
    {
     "data": {
      "text/plain": [
       "<Figure size 640x480 with 1 Axes>"
      ],
      "image/png": "[encoded data removed]"
     },
     "metadata": {},
     "output_type": "display_data"
    }
   ],
   "execution_count": 2
  },
  {
   "metadata": {},
   "cell_type": "markdown",
   "source": "# Implement the Sigmoid function",
   "id": "2a6db8a1ab4288eb"
  },
  {
   "metadata": {
    "ExecuteTime": {
     "end_time": "2025-01-13T02:19:03.295061Z",
     "start_time": "2025-01-13T02:19:03.290611Z"
    }
   },
   "cell_type": "code",
   "source": [
    "def sigmoid(z):\n",
    "    \"\"\"\n",
    "    Compute the sigmoid of z\n",
    "\n",
    "    Args:\n",
    "        z (ndarray): A scalar, numpy array of any size.\n",
    "\n",
    "    Returns:\n",
    "        g (ndarray): sigmoid(z), with the same shape as z\n",
    "\n",
    "    \"\"\"\n",
    "    g = 1 / (1 + np.exp(-z))\n",
    "\n",
    "    return g"
   ],
   "id": "babde78f6b56493a",
   "outputs": [],
   "execution_count": 3
  },
  {
   "metadata": {},
   "cell_type": "markdown",
   "source": [
    "# Implement the cost function for Logistic Regression.\n",
    "\n",
    "Cost function for logistic regression:\n",
    "\n",
    "$$ J(\\mathbf{w},b) = \\frac{1}{m}\\sum_{i=0}^{m-1} \\left[ loss(f_{\\mathbf{w},b}(\\mathbf{x}^{(i)}), y^{(i)}) \\right] \\tag{1}$$\n",
    "\n",
    "where\n",
    "* m is the number of training examples in the dataset\n",
    "\n",
    "\n",
    "* $loss(f_{\\mathbf{w},b}(\\mathbf{x}^{(i)}), y^{(i)})$ is the cost for a single data point, which is -\n",
    "\n",
    "    $$loss(f_{\\mathbf{w},b}(\\mathbf{x}^{(i)}), y^{(i)}) = (-y^{(i)} \\log\\left(f_{\\mathbf{w},b}\\left( \\mathbf{x}^{(i)} \\right) \\right) - \\left( 1 - y^{(i)}\\right) \\log \\left( 1 - f_{\\mathbf{w},b}\\left( \\mathbf{x}^{(i)} \\right) \\right) \\tag{2}$$\n",
    "\n",
    "\n",
    "*  $f_{\\mathbf{w},b}(\\mathbf{x}^{(i)})$ is the model's prediction, while $y^{(i)}$, which is the actual label\n",
    "\n",
    "*  $f_{\\mathbf{w},b}(\\mathbf{x}^{(i)}) = g(\\mathbf{w} \\cdot \\mathbf{x^{(i)}} + b)$ where function $g$ is the sigmoid function."
   ],
   "id": "d5d4c91674c80756"
  },
  {
   "metadata": {
    "ExecuteTime": {
     "end_time": "2025-01-13T02:19:03.321172Z",
     "start_time": "2025-01-13T02:19:03.314937Z"
    }
   },
   "cell_type": "code",
   "source": [
    "def compute_cost(X, y, w, b, *argv):\n",
    "    \"\"\"\n",
    "    Computes the cost over all examples\n",
    "    Args:\n",
    "      X : (ndarray Shape (m,n)) data, m examples by n features\n",
    "      y : (ndarray Shape (m,))  target value\n",
    "      w : (ndarray Shape (n,))  values of parameters of the model\n",
    "      b : (scalar)              value of bias parameter of the model\n",
    "      *argv : unused, for this assignment\n",
    "    Returns:\n",
    "      total_cost : (scalar) cost\n",
    "    \"\"\"\n",
    "\n",
    "    m, n = X.shape\n",
    "\n",
    "    # shape checks\n",
    "    # print(f'y shape: {y.shape}')\n",
    "    # print(f'X {X.shape}')\n",
    "\n",
    "    # compute z for each sample\n",
    "    z_wb = np.dot(X, w) + b\n",
    "    # print(f'z_wb {z_wb.shape}')\n",
    "\n",
    "    # compute sigmoid of z for each sample\n",
    "    f_wb = sigmoid(z_wb)\n",
    "    # print(f'f_wb shape: {f_wb.shape}')\n",
    "\n",
    "    # # log(0) results in DivideByZero, prevent this using very small number to ensure f_wb is within (0:1)\n",
    "    # small_number = 1e-15\n",
    "    # f_wb = np.clip(f_wb, small_number, 1 - small_number)\n",
    "    # # print(f'f_wb adjusted {f_wb.shape}: {f_wb}')\n",
    "\n",
    "    # reshape y to prevent array mismatch and resulting explosion of cost value\n",
    "    y_1D = y.reshape(-1)\n",
    "\n",
    "    # calculate the loss function for each sample\n",
    "    loss_fn = - (y_1D * np.log(f_wb) + (1 - y_1D) * np.log(1 - f_wb))\n",
    "    # print(f'loss_fn shape {loss_fn.shape}')\n",
    "\n",
    "    J_wb = total_cost = (1 / m) * np.sum(loss_fn)\n",
    "\n",
    "    return total_cost"
   ],
   "id": "58685299e3fef608",
   "outputs": [],
   "execution_count": 4
  },
  {
   "metadata": {},
   "cell_type": "markdown",
   "source": "Test sigmoid and cost function methods",
   "id": "7b744c2ca001c1c0"
  },
  {
   "metadata": {
    "ExecuteTime": {
     "end_time": "2025-01-13T02:19:03.395172Z",
     "start_time": "2025-01-13T02:19:03.389602Z"
    }
   },
   "cell_type": "code",
   "source": [
    "# Compute and display cost with non-zero w and b\n",
    "test_w = np.array([0.2, 0.3])\n",
    "test_b = -14.\n",
    "\n",
    "# testing sigmoid function\n",
    "# z_wb = np.dot(X_train, test_w) + test_b\n",
    "# print(f'test sigmoid function\\n\\nz_wb: {z_wb}')\n",
    "\n",
    "cost = compute_cost(X_train, y_train, test_w, test_b)\n",
    "\n",
    "print('Cost at test w =[0.2,0.3] and b = -14: {:.3f}'.format(cost))"
   ],
   "id": "d462882f1a4135ab",
   "outputs": [
    {
     "name": "stdout",
     "output_type": "stream",
     "text": [
      "Cost at test w =[0.2,0.3] and b = -14: 5.117\n"
     ]
    }
   ],
   "execution_count": 5
  },
  {
   "metadata": {},
   "cell_type": "markdown",
   "source": [
    "Expected result of sigmoid and cost function tests:\n",
    "\n",
    "Cost at test w =[0.2,0.3] and b = -14: 5.117"
   ],
   "id": "2e4ac19c72d674b6"
  },
  {
   "metadata": {},
   "cell_type": "markdown",
   "source": [
    "Implement Gradient for Logistic Regression\n",
    "\n",
    "Gradient descent algorithm:\n",
    "\n",
    "$$\\begin{align*}& \\text{repeat until convergence:} \\; \\lbrace \\newline \\; & b := b -  \\alpha \\frac{\\partial J(\\mathbf{w},b)}{\\partial b} \\newline       \\; & w_j := w_j -  \\alpha \\frac{\\partial J(\\mathbf{w},b)}{\\partial w_j} \\tag{1}  \\; & \\text{for j := 0..n-1}\\newline & \\rbrace\\end{align*}$$\n",
    "\n",
    "where, parameters $b$, $w_j$ are all updated simultaneously.\n",
    "\n",
    "\n",
    "$$\\frac{\\partial J(\\mathbf{w},b)}{\\partial b}  = \\frac{1}{m} \\sum\\limits_{i = 0}^{m-1} (f_{\\mathbf{w},b}(\\mathbf{x}^{(i)}) - \\mathbf{y}^{(i)}) \\tag{2}\n",
    "$$\n",
    "$$\n",
    "\\frac{\\partial J(\\mathbf{w},b)}{\\partial w_j}  = \\frac{1}{m} \\sum\\limits_{i = 0}^{m-1} (f_{\\mathbf{w},b}(\\mathbf{x}^{(i)}) - \\mathbf{y}^{(i)})x_{j}^{(i)} \\tag{3}\n",
    "$$\n",
    "* m is the number of training examples in the dataset\n",
    "\n",
    "\n",
    "*  $f_{\\mathbf{w},b}(x^{(i)})$ is the model's prediction, while $y^{(i)}$ is the actual label"
   ],
   "id": "a2759e70efe9006e"
  },
  {
   "metadata": {
    "ExecuteTime": {
     "end_time": "2025-01-13T02:19:03.462871Z",
     "start_time": "2025-01-13T02:19:03.458694Z"
    }
   },
   "cell_type": "code",
   "source": [
    "def compute_gradient(X, y, w, b, *argv):\n",
    "    \"\"\"\n",
    "    Computes the gradient for logistic regression\n",
    "\n",
    "    Args:\n",
    "      X : (ndarray Shape (m,n)) data, m examples by n features\n",
    "      y : (ndarray Shape (m,))  target value\n",
    "      w : (ndarray Shape (n,))  values of parameters of the model\n",
    "      b : (scalar)              value of bias parameter of the model\n",
    "      *argv : unused, for compatibility with regularized version below\n",
    "    Returns\n",
    "      dj_dw : (ndarray Shape (n,)) The gradient of the cost w.r.t. the parameters w.\n",
    "      dj_db : (scalar)             The gradient of the cost w.r.t. the parameter b.\n",
    "    \"\"\"\n",
    "    m, n = X.shape\n",
    "    # dj_dw = np.zeros(w.shape)\n",
    "    # dj_db = 0.\n",
    "\n",
    "    # Shape checks\n",
    "    # print(f'X shape: {X.shape}')\n",
    "    # print(f'y shape: {y.shape}')\n",
    "    # print(f'w shape: {w.shape}')\n",
    "\n",
    "    # ensure that y is 1 dimensional\n",
    "    y_1D = y.reshape(-1)\n",
    "\n",
    "    z_wb = np.dot(X, w) + b\n",
    "    # print(f'z_wb shape: {z_wb.shape}')\n",
    "    f_wb = sigmoid(z_wb)  # the model's prediction\n",
    "    # print(f'f_wb shape: {f_wb.shape}')\n",
    "\n",
    "    # create vector for the error between the model predictions and ground truth labels\n",
    "    error_vector = f_wb - y_1D\n",
    "    # print(f'error_vector shape: {error_vector.shape}')\n",
    "\n",
    "    # calculate dJ/db using numpy element-wise computation\n",
    "    dj_db = (1 / m) * (np.sum(error_vector))\n",
    "\n",
    "    \"\"\" calculate dJ/dw using vector operations \"\"\"\n",
    "    dj_dw = (1 / m) * np.dot(X.T, error_vector)\n",
    "\n",
    "\n",
    "\n",
    "    return dj_db, dj_dw"
   ],
   "id": "ac6b3536fdcd9171",
   "outputs": [],
   "execution_count": 6
  },
  {
   "metadata": {},
   "cell_type": "markdown",
   "source": "Test compute_gradient function",
   "id": "8d44e57b58d854f8"
  },
  {
   "metadata": {
    "ExecuteTime": {
     "end_time": "2025-01-13T02:19:03.530068Z",
     "start_time": "2025-01-13T02:19:03.525713Z"
    }
   },
   "cell_type": "code",
   "source": [
    "# testing compute_gradient()\n",
    "# np.random.seed(1)\n",
    "# initial_w = 0.01 * (np.random.rand(2) - 0.5)\n",
    "# initial_b = -8\n",
    "#\n",
    "# b_grad, w_grad = compute_gradient(X_train, y_train, initial_w, initial_b)\n",
    "# print(f'b_grad: {b_grad}')\n",
    "# print(f'w_grad {w_grad.shape}:')\n",
    "# print(f'w_grad {w_grad.shape}: {w_grad}')"
   ],
   "id": "d3b0d69da1fa731e",
   "outputs": [],
   "execution_count": 7
  },
  {
   "metadata": {},
   "cell_type": "markdown",
   "source": "# Implement Gradient Descent Function",
   "id": "ea5ff632bbe47805"
  },
  {
   "metadata": {
    "ExecuteTime": {
     "end_time": "2025-01-13T02:19:03.563162Z",
     "start_time": "2025-01-13T02:19:03.556942Z"
    }
   },
   "cell_type": "code",
   "source": [
    "def gradient_descent(X, y, w_in, b_in, cost_function, gradient_function, alpha, num_iters, lambda_):\n",
    "    \"\"\"\n",
    "    Performs batch gradient descent to learn theta. Updates theta by taking\n",
    "    num_iters gradient steps with learning rate alpha\n",
    "\n",
    "    Args:\n",
    "      X :    (ndarray Shape (m, n) data, m examples by n features\n",
    "      y :    (ndarray Shape (m,))  target value\n",
    "      w_in : (ndarray Shape (n,))  Initial values of parameters of the model\n",
    "      b_in : (scalar)              Initial value of parameter of the model\n",
    "      cost_function :              function to compute cost\n",
    "      gradient_function :          function to compute gradient\n",
    "      alpha : (float)              Learning rate\n",
    "      num_iters : (int)            number of iterations to run gradient descent\n",
    "      lambda_ : (scalar, float)    regularization constant\n",
    "\n",
    "    Returns:\n",
    "      w : (ndarray Shape (n,)) Updated values of parameters of the model after\n",
    "          running gradient descent\n",
    "      b : (scalar)                Updated value of parameter of the model after\n",
    "          running gradient descent\n",
    "    \"\"\"\n",
    "\n",
    "    # number of training examples\n",
    "    m = len(X)\n",
    "\n",
    "    # An array to store cost J and w's at each iteration primarily for graphing later\n",
    "    J_history = []\n",
    "    w_history = []\n",
    "\n",
    "    for i in range(num_iters):\n",
    "\n",
    "        # Calculate the gradient and update the parameters\n",
    "        dj_db, dj_dw = gradient_function(X, y, w_in, b_in, lambda_)\n",
    "\n",
    "        # Update Parameters using w, b, alpha and gradient\n",
    "        w_in = w_in - alpha * dj_dw\n",
    "        b_in = b_in - alpha * dj_db\n",
    "\n",
    "        # Save cost J at each iteration\n",
    "        if i<100000:      # prevent resource exhaustion\n",
    "            cost =  cost_function(X, y, w_in, b_in, lambda_)\n",
    "            J_history.append(cost)\n",
    "\n",
    "        # Print cost every at intervals 10 times or as many iterations if < 10\n",
    "        if i% math.ceil(num_iters/10) == 0 or i == (num_iters-1):\n",
    "            w_history.append(w_in)\n",
    "            print(f\"Iteration {i:4}: Cost {float(J_history[-1]):8.2f}   \")\n",
    "\n",
    "    return w_in, b_in, J_history, w_history #return w and J,w history for graphing"
   ],
   "id": "962ac8c26dc9993a",
   "outputs": [],
   "execution_count": 8
  },
  {
   "metadata": {},
   "cell_type": "markdown",
   "source": "## Run Gradient Descent Algorithm\n",
   "id": "a00799e4d8219830"
  },
  {
   "metadata": {
    "ExecuteTime": {
     "end_time": "2025-01-13T02:19:04.026491Z",
     "start_time": "2025-01-13T02:19:03.609221Z"
    }
   },
   "cell_type": "code",
   "source": [
    "#No additional code needed. Just run this cell\n",
    "np.random.seed(1)\n",
    "initial_w = 0.01 * (np.random.rand(2) - 0.5)\n",
    "initial_b = -8\n",
    "\n",
    "# Some gradient descent settings\n",
    "iterations = 10000\n",
    "alpha = 0.001\n",
    "\n",
    "w,b, J_history,_ = gradient_descent(X_train ,y_train, initial_w, initial_b,\n",
    "                                   compute_cost, compute_gradient, alpha, iterations, 0)"
   ],
   "id": "adc18dcc9e8cdff7",
   "outputs": [
    {
     "name": "stdout",
     "output_type": "stream",
     "text": [
      "Iteration    0: Cost     0.96   \n",
      "Iteration 1000: Cost     0.31   \n",
      "Iteration 2000: Cost     0.30   \n",
      "Iteration 3000: Cost     0.30   \n",
      "Iteration 4000: Cost     0.30   \n",
      "Iteration 5000: Cost     0.30   \n",
      "Iteration 6000: Cost     0.30   \n",
      "Iteration 7000: Cost     0.30   \n",
      "Iteration 8000: Cost     0.30   \n",
      "Iteration 9000: Cost     0.30   \n",
      "Iteration 9999: Cost     0.30   \n"
     ]
    }
   ],
   "execution_count": 9
  },
  {
   "metadata": {},
   "cell_type": "markdown",
   "source": "## Plot the Decision Boundary",
   "id": "2e956083e5cd7a0f"
  },
  {
   "metadata": {
    "ExecuteTime": {
     "end_time": "2025-01-13T02:19:04.173081Z",
     "start_time": "2025-01-13T02:19:04.041008Z"
    }
   },
   "cell_type": "code",
   "source": [
    "# Create a scatter plot\n",
    "plt.scatter(x_class0[:, 0], x_class0[:, 1], color='blue', label='Not Admitted')\n",
    "plt.scatter(x_class1[:, 0], x_class1[:, 1], color='red', label='Admitted')\n",
    "\n",
    "#Plot decision boundary\n",
    "x1 = [30,40,50,60,70,80,90,100]\n",
    "x2=-b/w[1]+np.dot (-w[0]/w[1],x1)\n",
    "\n",
    "plt.plot(x1, x2, color='black')\n",
    "\n",
    "# Add labels and legend\n",
    "plt.xlabel('Exam1 Score')\n",
    "plt.ylabel('Exam2 Score')\n",
    "plt.legend()\n",
    "plt.show()"
   ],
   "id": "88a818f5d78314f4",
   "outputs": [
    {
     "data": {
      "text/plain": [
       "<Figure size 640x480 with 1 Axes>"
      ],
      "image/png": "[encoded data removed]"
     },
     "metadata": {},
     "output_type": "display_data"
    }
   ],
   "execution_count": 10
  },
  {
   "metadata": {},
   "cell_type": "markdown",
   "source": "Use the learned logistic regression model to determine if a student with scores (70,50) is likely to be admitted and if a student with scores (60,58) is likely to be admitted.",
   "id": "f6687d893cd9de71"
  },
  {
   "metadata": {
    "ExecuteTime": {
     "end_time": "2025-01-13T02:19:04.194925Z",
     "start_time": "2025-01-13T02:19:04.188154Z"
    }
   },
   "cell_type": "code",
   "source": [
    "X0 = 70\n",
    "X1 = 50\n",
    "\n",
    "if (w[0] * X0 + w[1] * X1 + b) > 0:\n",
    "    print('Student with score (70,50) Likely to Get Admitted')\n",
    "else:\n",
    "    print('Student with score (70,50) Not Likely to Get Admitted')\n",
    "\n",
    "X0 = 60\n",
    "X1 = 58\n",
    "\n",
    "if (b + w[0] * X0 + w[1] * X1) > 0:\n",
    "    print('Student with score (60,58) Likely to Get Admitted')\n",
    "else:\n",
    "    print('Student with score (60,58) Not Likely to Get Admitted')"
   ],
   "id": "13aec83fcc85c06d",
   "outputs": [
    {
     "name": "stdout",
     "output_type": "stream",
     "text": [
      "Student with score (70,50) Likely to Get Admitted\n",
      "Student with score (60,58) Not Likely to Get Admitted\n"
     ]
    }
   ],
   "execution_count": 11
  },
  {
   "metadata": {},
   "cell_type": "markdown",
   "source": "## Determine Classification Predictions Based on Learned Logistic Regression Model",
   "id": "bf2e873e016177a7"
  },
  {
   "metadata": {
    "ExecuteTime": {
     "end_time": "2025-01-13T02:19:04.224466Z",
     "start_time": "2025-01-13T02:19:04.218035Z"
    }
   },
   "cell_type": "code",
   "source": [
    "# Create an empty array y_pred to store the predicted classifications\n",
    "# y_pred = np.zeros(100)\n",
    "\n",
    "# Iterate through each row of X to calculate predictions\n",
    "# for i in range(100):\n",
    "#   # Calculate the linear combination of features and bias\n",
    "#   z = w[0] * X_train[i, 0] + w[1] * X_train[i, 1] + b\n",
    "#\n",
    "#   # Apply the sigmoid function to get the predicted probability\n",
    "#   probability = 1 / (1 + np.exp(-z))\n",
    "#\n",
    "#   # Classify as 1 if probability is above 0.5, otherwise as 0\n",
    "#   y_pred[i] = 1 if probability > 0.5 else 0\n",
    "\n",
    "\"\"\" numpy operation implementation: eliminates for loop above \"\"\"\n",
    "z = w[0] * X_train[:, 0] + w[1] * X_train[:, 1] + b\n",
    "prob = sigmoid(z)\n",
    "y_pred = np.where(prob > 0.5, 1.0, 0.0).reshape(-1, 1)\n",
    "\n",
    "# print(f'prob {prob.shape}: {prob}')\n",
    "\n",
    "# Now, the array y_pred contains the predicted classifications for each sample\n",
    "# print(f'y_pred {y_pred.shape}: {y_pred}')\n",
    "# print(f'y_pred {y_pred.shape}')\n",
    "# print(f'y_train {y_train.shape}: {y_train}')\n",
    "# print(f'y_train {y_train.shape}')\n",
    "\n"
   ],
   "id": "c0a11b564f201a2f",
   "outputs": [],
   "execution_count": 12
  },
  {
   "metadata": {},
   "cell_type": "markdown",
   "source": "# Evaluate Model",
   "id": "8236d4413d225e28"
  },
  {
   "metadata": {
    "ExecuteTime": {
     "end_time": "2025-01-13T02:19:04.293147Z",
     "start_time": "2025-01-13T02:19:04.285751Z"
    }
   },
   "cell_type": "code",
   "source": [
    "# Calculate TP, FP, TN, FN, Accuracy, Precision, Recall, and F-1 score\n",
    "# We assume that label y = 1 is positive, and y = 0 is negative\n",
    "def calc_metrics(Y_actual, Y_pred):\n",
    "    \"\"\"\n",
    "    Calculate metrics\n",
    "\n",
    "    Args:\n",
    "    Y_actual -- test label\n",
    "    Y_pred_sigmoid -- predictions on test data\n",
    "\n",
    "    Return:\n",
    "    metrics -- a dict object\n",
    "    \"\"\"\n",
    "    #Calculate Y_pred = 1 or 0 depending on Y_pred_Sigmoid >0 or <=0 respectively\n",
    "\n",
    "    assert(Y_actual.shape == Y_pred.shape)\n",
    "\n",
    "    \"\"\"\n",
    "        TP: y_pred = 1, y = 1\n",
    "        FP: y_pred = 1, y = 0\n",
    "        TN: y_pred = 0, y = 0\n",
    "        FN: y_pred = 0, y = 1\n",
    "    \"\"\"\n",
    "    # true positive: predicted positive when actually positive\n",
    "    TP = np.sum(np.where((Y_pred == 1) & (Y_actual == 1), 1, 0))\n",
    "    # false positive: predicted positive when actually negative\n",
    "    FP = np.sum(np.where((Y_pred == 1) & (Y_actual == 0), 1, 0))\n",
    "    # true negative: predicted negative when actually negative\n",
    "    TN = np.sum(np.where((Y_pred == 0) & (Y_actual == 0), 1, 0))\n",
    "    # false negative: predicted negative when actually positive\n",
    "    FN = np.sum(np.where((Y_pred == 0) & (Y_actual == 1), 1, 0))\n",
    "\n",
    "\n",
    "    Accuracy = (TP + TN) / (TP + FP + TN + FN)\n",
    "    Precision = TP / (TP + FP)\n",
    "    Recall = TP / (TP + FN)\n",
    "    F1 = 2 * ((Precision * Recall) / (Precision + Recall))\n",
    "\n",
    "    metrics = {\n",
    "        'TP': TP,\n",
    "        'FP': FP,\n",
    "        'TN': TN,\n",
    "        'FN': FN,\n",
    "        'Accuracy': Accuracy,\n",
    "        'Precision': Precision,\n",
    "        'Recall': Recall,\n",
    "        'F1': F1\n",
    "    }\n",
    "\n",
    "    return metrics\n",
    "\n",
    "model_performance = calc_metrics(y_train, y_pred)\n",
    "print('TP = {}, FP = {}, TN = {}, FN = {}, \\nAccuracy = {}, Precision = {}, Recall = {}, F1 = {}'.format(\n",
    "    model_performance['TP'], model_performance['FP'], model_performance['TN'], model_performance['FN'], model_performance['Accuracy'], model_performance['Precision'], model_performance['Recall'], model_performance['F1']\n",
    "))"
   ],
   "id": "7ae61f56f2d110d2",
   "outputs": [
    {
     "name": "stdout",
     "output_type": "stream",
     "text": [
      "TP = 58, FP = 6, TN = 34, FN = 2, \n",
      "Accuracy = 0.92, Precision = 0.90625, Recall = 0.9666666666666667, F1 = 0.9354838709677419\n"
     ]
    }
   ],
   "execution_count": 13
  },
  {
   "metadata": {
    "ExecuteTime": {
     "end_time": "2025-01-13T02:19:04.330667Z",
     "start_time": "2025-01-13T02:19:04.327670Z"
    }
   },
   "cell_type": "code",
   "source": "",
   "id": "c816a80045c45949",
   "outputs": [],
   "execution_count": null
  }
 ],
 "metadata": {
  "kernelspec": {
   "display_name": "Python 3",
   "language": "python",
   "name": "python3"
  },
  "language_info": {
   "codemirror_mode": {
    "name": "ipython",
    "version": 2
   },
   "file_extension": ".py",
   "mimetype": "text/x-python",
   "name": "python",
   "nbconvert_exporter": "python",
   "pygments_lexer": "ipython2",
   "version": "2.7.6"
  }
 },
 "nbformat": 4,
 "nbformat_minor": 5
}
