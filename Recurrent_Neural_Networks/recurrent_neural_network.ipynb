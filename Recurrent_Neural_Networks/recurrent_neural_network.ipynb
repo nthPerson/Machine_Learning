{
 "cells": [
  {
   "metadata": {},
   "cell_type": "markdown",
   "source": [
    "# Recurrent Neural Network\n",
    "\n",
    "Basic RNN and LSTM based RNN models that are used to predict the language for a given name, from the PyTorch for Torch users tutorial.\n",
    "\n",
    "Import packages"
   ],
   "id": "8fb1084db061d6a9"
  },
  {
   "metadata": {
    "ExecuteTime": {
     "end_time": "2025-01-14T02:03:26.397951Z",
     "start_time": "2025-01-14T02:03:26.392647Z"
    }
   },
   "cell_type": "code",
   "source": [
    "from io import open\n",
    "import glob\n",
    "import os\n",
    "import unicodedata\n",
    "import random\n",
    "import string\n",
    "import torch\n",
    "import numpy as np\n",
    "import time\n",
    "import math"
   ],
   "id": "774b020a7c25a6d3",
   "outputs": [],
   "execution_count": 4
  },
  {
   "metadata": {},
   "cell_type": "markdown",
   "source": "# Convert Data from Unicode to ASCII",
   "id": "bd1afc72f21c6197"
  },
  {
   "metadata": {
    "ExecuteTime": {
     "end_time": "2025-01-14T02:07:29.930010Z",
     "start_time": "2025-01-14T02:07:29.881509Z"
    }
   },
   "cell_type": "code",
   "source": [
    "def findFiles(path):\n",
    "    return glob.glob(path)\n",
    "\n",
    "print(findFiles('data/names/*.txt'))\n",
    "\n",
    "all_letters = string.ascii_letters + \" .,;'\"\n",
    "n_letters = len(all_letters)\n",
    "print ('n_letters',n_letters)\n",
    "\n",
    "# Convert a Unicode string to plain ASCII, thanks to https://stackoverflow.com/a/518232/2809427\n",
    "def unicodeToAscii(s):\n",
    "    return ''.join(\n",
    "        c for c in unicodedata.normalize('NFD', s)\n",
    "        if unicodedata.category(c) != 'Mn'\n",
    "        and c in all_letters\n",
    "    )\n",
    "print(unicodeToAscii('Ślusàrski'))\n",
    "\n",
    "# Build the category_lines dictionary, a list of names per language\n",
    "category_lines = {}\n",
    "all_categories = []\n",
    "\n",
    "# Read a file and split into lines\n",
    "def readLines(filename):\n",
    "    lines = open(filename, encoding='utf-8').read().strip().split('\\n')\n",
    "    return [unicodeToAscii(line) for line in lines]\n",
    "\n",
    "for filename in findFiles('data/names/*.txt'):\n",
    "    category = os.path.splitext(os.path.basename(filename))[0]\n",
    "    all_categories.append(category)\n",
    "    lines = readLines(filename)\n",
    "    category_lines[category] = lines\n",
    "n_categories = len(all_categories)\n",
    "print ('n_categories', n_categories)"
   ],
   "id": "75bda8662bf3ed0f",
   "outputs": [
    {
     "name": "stdout",
     "output_type": "stream",
     "text": [
      "['data/names\\\\Arabic.txt', 'data/names\\\\Chinese.txt', 'data/names\\\\Czech.txt', 'data/names\\\\Dutch.txt', 'data/names\\\\English.txt', 'data/names\\\\French.txt', 'data/names\\\\German.txt', 'data/names\\\\Greek.txt', 'data/names\\\\Irish.txt', 'data/names\\\\Italian.txt', 'data/names\\\\Japanese.txt', 'data/names\\\\Korean.txt', 'data/names\\\\Polish.txt', 'data/names\\\\Portuguese.txt', 'data/names\\\\Russian.txt', 'data/names\\\\Scottish.txt', 'data/names\\\\Spanish.txt', 'data/names\\\\Vietnamese.txt']\n",
      "n_letters 57\n",
      "Slusarski\n",
      "n_categories 18\n"
     ]
    }
   ],
   "execution_count": 7
  },
  {
   "metadata": {},
   "cell_type": "markdown",
   "source": [
    "# Test language Dictionary\n",
    "\n",
    "Print a list of names from a supported language"
   ],
   "id": "16fc4896987e977b"
  },
  {
   "metadata": {
    "ExecuteTime": {
     "end_time": "2025-01-14T02:10:04.215043Z",
     "start_time": "2025-01-14T02:10:04.211042Z"
    }
   },
   "cell_type": "code",
   "source": [
    "print(category_lines['Arabic'][ :5])\n",
    "print(category_lines['Spanish'][ :5])"
   ],
   "id": "f3fad8e7c826978f",
   "outputs": [
    {
     "name": "stdout",
     "output_type": "stream",
     "text": [
      "['Khoury', 'Nahas', 'Daher', 'Gerges', 'Nazari']\n",
      "['Abana', 'Abano', 'Abarca', 'Abaroa', 'Abascal']\n"
     ]
    }
   ],
   "execution_count": 9
  },
  {
   "metadata": {},
   "cell_type": "markdown",
   "source": "# Helper Functions to Convert Names to One-Hot Encoded Tensors",
   "id": "dab71354f624e4a0"
  },
  {
   "metadata": {
    "ExecuteTime": {
     "end_time": "2025-01-14T02:12:14.769617Z",
     "start_time": "2025-01-14T02:12:14.755217Z"
    }
   },
   "cell_type": "code",
   "source": [
    "# Find letter index from all_letters, e.g. \"a\" = 0\n",
    "def letterToIndex(letter):\n",
    "    return all_letters.find(letter)\n",
    "\n",
    "# Just for demonstration, turn a letter into a (1 x n_letters) Tensor\n",
    "def letterToTensor(letter):\n",
    "    tensor = torch.zeros(1, n_letters)\n",
    "    tensor[0][letterToIndex(letter)] = 1\n",
    "    return tensor\n",
    "\n",
    "# Turn a line into a (line_length x 1 x n_letters), or an array of one-hot letter vectors\n",
    "def lineToTensor(line):\n",
    "    tensor = torch.zeros(len(line), 1, n_letters)\n",
    "    for li, letter in enumerate(line):\n",
    "        tensor[li][0][letterToIndex(letter)] = 1\n",
    "    return tensor\n",
    "\n",
    "print(letterToTensor('J'))\n",
    "\n",
    "print(lineToTensor('Jones').size())"
   ],
   "id": "1921767aa365d9b0",
   "outputs": [
    {
     "name": "stdout",
     "output_type": "stream",
     "text": [
      "tensor([[0., 0., 0., 0., 0., 0., 0., 0., 0., 0., 0., 0., 0., 0., 0., 0., 0., 0.,\n",
      "         0., 0., 0., 0., 0., 0., 0., 0., 0., 0., 0., 0., 0., 0., 0., 0., 0., 1.,\n",
      "         0., 0., 0., 0., 0., 0., 0., 0., 0., 0., 0., 0., 0., 0., 0., 0., 0., 0.,\n",
      "         0., 0., 0.]])\n",
      "torch.Size([5, 1, 57])\n"
     ]
    }
   ],
   "execution_count": 10
  },
  {
   "metadata": {},
   "cell_type": "markdown",
   "source": [
    "# Basic RNN\n",
    "\n",
    "This RNN (from the PyTorch for Torch users tutorial) has 2 linear layers which operate on an input and hidden state with a hyperbolic tangent activation function and a LogSoftmax layer after the output. The hidden layer activation $a^{<t>}$ is a 128-element vector."
   ],
   "id": "1c9d284f5cf96449"
  },
  {
   "metadata": {
    "ExecuteTime": {
     "end_time": "2025-01-14T02:15:05.812582Z",
     "start_time": "2025-01-14T02:15:05.802584Z"
    }
   },
   "cell_type": "code",
   "source": [
    "import torch.nn as nn\n",
    "\n",
    "class Basic_RNN(nn.Module):\n",
    "    def __init__(self, input_size, hidden_size, output_size):\n",
    "        super(Basic_RNN, self).__init__()\n",
    "\n",
    "        self.hidden_size = hidden_size\n",
    "\n",
    "        self.i2h = nn.Linear(input_size + hidden_size, hidden_size)\n",
    "        self.tanh = nn.Tanh()\n",
    "        self.h2o = nn.Linear(hidden_size, output_size)\n",
    "        self.softmax = nn.LogSoftmax(dim=1)\n",
    "\n",
    "    def forward(self, input, hidden):\n",
    "        combined = torch.cat((input, hidden), 1)\n",
    "        hidden = self.i2h(combined)\n",
    "        hidden=self.tanh(hidden)\n",
    "        output = self.h2o(hidden)\n",
    "        output = self.softmax(output)\n",
    "        return output, hidden\n",
    "\n",
    "    def initHidden(self):\n",
    "\n",
    "        return torch.zeros(1, self.hidden_size)\n",
    "\n",
    "n_hidden = 128\n",
    "basic_rnn = Basic_RNN(n_letters, n_hidden, n_categories)"
   ],
   "id": "3c3d0becd032a845",
   "outputs": [],
   "execution_count": 11
  },
  {
   "metadata": {},
   "cell_type": "markdown",
   "source": "# Helper Functions to Interpret Model Output and Get Random Samples",
   "id": "a28ca812902d2c63"
  },
  {
   "metadata": {
    "ExecuteTime": {
     "end_time": "2025-01-14T02:25:07.682837Z",
     "start_time": "2025-01-14T02:25:07.676569Z"
    }
   },
   "cell_type": "code",
   "source": [
    "def categoryFromOutput(output):\n",
    "    top_n, top_i = output.topk(1)\n",
    "    category_i = top_i[0].item()\n",
    "    return all_categories[category_i], category_i\n",
    "\n",
    "def randomChoice(l):\n",
    "    return l[random.randint(0, len(l) - 1)]\n",
    "\n",
    "def randomTrainingExample():\n",
    "    category = randomChoice(all_categories)\n",
    "    line = randomChoice(category_lines[category])\n",
    "    category_tensor = torch.tensor([all_categories.index(category)], dtype=torch.long)\n",
    "    line_tensor = lineToTensor(line)\n",
    "    #print (category_tensor.shape, line_tensor.shape)\n",
    "    return category, line, category_tensor, line_tensor\n",
    "\n",
    "# random.seed(0)\n",
    "# for i in range(10):\n",
    "#     category, line, category_tensor, line_tensor = randomTrainingExample()\n",
    "#     print('category =', category, '/ line =', line)"
   ],
   "id": "d405567e79bfbd28",
   "outputs": [],
   "execution_count": 15
  },
  {
   "metadata": {},
   "cell_type": "markdown",
   "source": "# Training Function",
   "id": "f7f7c9419e0b4311"
  },
  {
   "metadata": {
    "ExecuteTime": {
     "end_time": "2025-01-14T02:25:08.521091Z",
     "start_time": "2025-01-14T02:25:08.516054Z"
    }
   },
   "cell_type": "code",
   "source": [
    "learning_rate = 0.005   # If learning rate is set too high, it might not converge. If too low,\n",
    "                        # it might not learn. 0.005 from trial and error\n",
    "criterion = nn.NLLLoss()\n",
    "optimizer = torch.optim.SGD(basic_rnn.parameters(), lr = learning_rate)\n",
    "def train_basic_RNN(category_tensor, line_tensor):\n",
    "    hidden = basic_rnn.initHidden()\n",
    "    optimizer.zero_grad()\n",
    "    for i in range(line_tensor.size()[0]):\n",
    "        output, hidden = basic_rnn(line_tensor[i], hidden)\n",
    "\n",
    "    loss = criterion(output, category_tensor)\n",
    "    loss.backward()\n",
    "    optimizer.step()\n",
    "\n",
    "    return output, loss.item()"
   ],
   "id": "a92121e946ed6b45",
   "outputs": [],
   "execution_count": 16
  },
  {
   "metadata": {},
   "cell_type": "markdown",
   "source": "# Training Loop",
   "id": "852eaa7c65c9f74c"
  },
  {
   "metadata": {
    "ExecuteTime": {
     "end_time": "2025-01-14T02:27:38.764098Z",
     "start_time": "2025-01-14T02:25:12.255223Z"
    }
   },
   "cell_type": "code",
   "source": [
    "# Set random seed for Python\n",
    "random_seed = 0\n",
    "random.seed(random_seed)\n",
    "# Set random seed for NumPy\n",
    "np.random.seed(random_seed)\n",
    "# Set random seed for PyTorch\n",
    "torch.manual_seed(random_seed)\n",
    "torch.backends.cudnn.deterministic = True\n",
    "torch.backends.cudnn.benchmark = False\n",
    "n_iters = 100000\n",
    "print_every = 5000\n",
    "plot_every = 1000\n",
    "# Keep track of losses for plotting\n",
    "current_loss = 0\n",
    "all_losses = []\n",
    "def timeSince(since):\n",
    "    now = time.time()\n",
    "    s = now - since\n",
    "    m = math.floor(s / 60)\n",
    "    s -= m * 60\n",
    "    return '%dm %ds' % (m, s)\n",
    "start = time.time()\n",
    "\n",
    "for iter in range(1, n_iters + 1):\n",
    "    category, line, category_tensor, line_tensor = randomTrainingExample()\n",
    "    output, loss = train_basic_RNN(category_tensor, line_tensor)\n",
    "    current_loss += loss\n",
    "    # Print ``iter`` number, loss, name and guess\n",
    "    if iter % print_every == 0:\n",
    "        prediction, prediction_i = categoryFromOutput(output)\n",
    "        correct = '✓' if prediction == category else '✗ (%s)' % category\n",
    "        print('%d %d%% (%s) %.4f %s / %s %s' % (iter, iter / n_iters * 100, timeSince(start), loss, line, prediction, correct))\n",
    "    # Add current loss avg to list of losses\n",
    "    if iter % plot_every == 0:\n",
    "        all_losses.append(current_loss / plot_every)\n",
    "        current_loss = 0"
   ],
   "id": "8c17eabf7d27f54d",
   "outputs": [
    {
     "name": "stdout",
     "output_type": "stream",
     "text": [
      "5000 5% (0m 7s) 2.9744 Gajos / Greek ✗ (Polish)\n",
      "10000 10% (0m 13s) 2.7723 D'cruze / French ✗ (Portuguese)\n",
      "15000 15% (0m 21s) 0.9778 Yosano / Japanese ✓\n",
      "20000 20% (0m 27s) 1.3218 Blecher / German ✓\n",
      "25000 25% (0m 35s) 2.2397 Black / Czech ✗ (Scottish)\n",
      "30000 30% (0m 41s) 0.1731 Adamidis / Greek ✓\n",
      "35000 35% (0m 50s) 0.0196 Kouropoulos / Greek ✓\n",
      "40000 40% (0m 57s) 1.4198 Arendonk / Czech ✗ (Dutch)\n",
      "45000 45% (1m 4s) 3.0372 Holub / Arabic ✗ (Czech)\n",
      "50000 50% (1m 12s) 0.2700 Perreault / French ✓\n",
      "55000 55% (1m 20s) 2.4004 Sai / Chinese ✗ (Vietnamese)\n",
      "60000 60% (1m 27s) 1.9053 Mori / Italian ✗ (Japanese)\n",
      "65000 65% (1m 34s) 1.3499 Tso / Vietnamese ✗ (Chinese)\n",
      "70000 70% (1m 42s) 0.4062 Shamon / Arabic ✓\n",
      "75000 75% (1m 50s) 3.2803 Otani / Italian ✗ (Japanese)\n",
      "80000 80% (1m 57s) 0.2584 Tahan / Arabic ✓\n",
      "85000 85% (2m 4s) 0.0049 Papoutsis / Greek ✓\n",
      "90000 90% (2m 12s) 4.1014 Forster / French ✗ (English)\n",
      "95000 95% (2m 19s) 0.8426 Klerkx / Dutch ✓\n",
      "100000 100% (2m 26s) 1.0948 Plourde / French ✓\n"
     ]
    }
   ],
   "execution_count": 17
  },
  {
   "metadata": {},
   "cell_type": "markdown",
   "source": "# Plot Training Results",
   "id": "8533df43a98f112c"
  },
  {
   "metadata": {
    "ExecuteTime": {
     "end_time": "2025-01-14T02:29:03.591907Z",
     "start_time": "2025-01-14T02:29:03.488368Z"
    }
   },
   "cell_type": "code",
   "source": [
    "import matplotlib.pyplot as plt\n",
    "import matplotlib.ticker as ticker\n",
    "\n",
    "plt.figure()\n",
    "plt.plot(all_losses)"
   ],
   "id": "32bcfc4f02ba8625",
   "outputs": [
    {
     "data": {
      "text/plain": [
       "[<matplotlib.lines.Line2D at 0x279b2ec08c0>]"
      ]
     },
     "execution_count": 19,
     "metadata": {},
     "output_type": "execute_result"
    },
    {
     "data": {
      "text/plain": [
       "<Figure size 640x480 with 1 Axes>"
      ],
      "image/png": "[encoded data removed]"
     },
     "metadata": {},
     "output_type": "display_data"
    }
   ],
   "execution_count": 19
  },
  {
   "metadata": {},
   "cell_type": "markdown",
   "source": "# Evaluate Results",
   "id": "ce943a548d38ee5a"
  },
  {
   "metadata": {
    "ExecuteTime": {
     "end_time": "2025-01-14T02:29:58.221481Z",
     "start_time": "2025-01-14T02:29:51.832121Z"
    }
   },
   "cell_type": "code",
   "source": [
    "# Set random seed for Python\n",
    "random_seed = 42\n",
    "random.seed(random_seed)\n",
    "\n",
    "# Set random seed for NumPy\n",
    "np.random.seed(random_seed)\n",
    "\n",
    "# Set random seed for PyTorch\n",
    "torch.manual_seed(random_seed)\n",
    "torch.backends.cudnn.deterministic = True\n",
    "torch.backends.cudnn.benchmark = False\n",
    "\n",
    "# Keep track of correct guesses in a confusion matrix\n",
    "confusion = torch.zeros(n_categories, n_categories)\n",
    "n_confusion = 10000\n",
    "\n",
    "# Just return an output given a line\n",
    "def evaluate(line_tensor):\n",
    "    hidden = basic_rnn.initHidden()\n",
    "    for i in range(line_tensor.size()[0]):\n",
    "        with torch.no_grad():\n",
    "            output, hidden = basic_rnn(line_tensor[i], hidden)\n",
    "    return output\n",
    "\n",
    "# Go through a bunch of examples and record which are correctly guessed\n",
    "for i in range(n_confusion):\n",
    "    category, line, category_tensor, line_tensor = randomTrainingExample()\n",
    "    output = evaluate(line_tensor)\n",
    "    prediction, prediction_i = categoryFromOutput(output)\n",
    "    category_i = all_categories.index(category)\n",
    "    confusion[category_i][prediction_i] += 1\n",
    "\n",
    "# Normalize by dividing every row by its sum\n",
    "for i in range(n_categories):\n",
    "    confusion[i] = confusion[i] / confusion[i].sum()\n",
    "\n",
    "# Set up plot\n",
    "fig = plt.figure()\n",
    "ax = fig.add_subplot(111)\n",
    "cax = ax.matshow(confusion.numpy())\n",
    "fig.colorbar(cax)\n",
    "\n",
    "# Set up axes\n",
    "ax.set_xticklabels([''] + all_categories, rotation=90)\n",
    "ax.set_yticklabels([''] + all_categories)\n",
    "\n",
    "# Force label at every tick\n",
    "ax.xaxis.set_major_locator(ticker.MultipleLocator(1))\n",
    "ax.yaxis.set_major_locator(ticker.MultipleLocator(1))\n",
    "\n",
    "plt.show()"
   ],
   "id": "f440363843711f15",
   "outputs": [
    {
     "name": "stderr",
     "output_type": "stream",
     "text": [
      "C:\\Users\\rober\\AppData\\Local\\Temp\\ipykernel_8184\\3646947725.py:44: UserWarning: set_ticklabels() should only be used with a fixed number of ticks, i.e. after set_ticks() or using a FixedLocator.\n",
      "  ax.set_xticklabels([''] + all_categories, rotation=90)\n",
      "C:\\Users\\rober\\AppData\\Local\\Temp\\ipykernel_8184\\3646947725.py:45: UserWarning: set_ticklabels() should only be used with a fixed number of ticks, i.e. after set_ticks() or using a FixedLocator.\n",
      "  ax.set_yticklabels([''] + all_categories)\n"
     ]
    },
    {
     "data": {
      "text/plain": [
       "<Figure size 640x480 with 2 Axes>"
      ],
      "image/png": "[encoded data removed]"
     },
     "metadata": {},
     "output_type": "display_data"
    }
   ],
   "execution_count": 21
  },
  {
   "metadata": {},
   "cell_type": "markdown",
   "source": "# Make Predictions on User Input",
   "id": "309427dceb4a7800"
  },
  {
   "metadata": {
    "ExecuteTime": {
     "end_time": "2025-01-14T02:30:03.226990Z",
     "start_time": "2025-01-14T02:30:03.205992Z"
    }
   },
   "cell_type": "code",
   "source": [
    "def predict(input_line, n_predictions=3):\n",
    "    print('\\n> %s' % input_line)\n",
    "    output = evaluate(lineToTensor(input_line))\n",
    "\n",
    "    # Get top N categories\n",
    "    topv, topi = output.topk(n_predictions, 1, True)\n",
    "    predictions = []\n",
    "\n",
    "    for i in range(n_predictions):\n",
    "        value = topv[0][i].item()\n",
    "        category_index = topi[0][i].item()\n",
    "        print('(%.2f) %s' % (value, all_categories[category_index]))\n",
    "        predictions.append([value, all_categories[category_index]])\n",
    "\n",
    "predict('Dostoevsky')\n",
    "predict('Doveski')\n",
    "predict('Jackson')\n",
    "predict('Satoshi')\n",
    "predict('Giorgos')\n",
    "predict('Apostolopoulos')\n",
    "predict('Brosnan')\n",
    "predict('Connery')"
   ],
   "id": "2b40731fe14824b1",
   "outputs": [
    {
     "name": "stdout",
     "output_type": "stream",
     "text": [
      "\n",
      "> Dostoevsky\n",
      "(-0.52) Russian\n",
      "(-1.29) Czech\n",
      "(-2.29) English\n",
      "\n",
      "> Doveski\n",
      "(-1.46) Japanese\n",
      "(-1.48) Polish\n",
      "(-1.66) Italian\n",
      "\n",
      "> Jackson\n",
      "(-0.01) Scottish\n",
      "(-5.23) English\n",
      "(-5.45) Polish\n",
      "\n",
      "> Satoshi\n",
      "(-0.49) Japanese\n",
      "(-1.83) Italian\n",
      "(-2.17) Polish\n",
      "\n",
      "> Giorgos\n",
      "(-0.26) Scottish\n",
      "(-2.52) Spanish\n",
      "(-3.41) Arabic\n",
      "\n",
      "> Apostolopoulos\n",
      "(-0.03) Greek\n",
      "(-4.11) Polish\n",
      "(-5.28) Spanish\n",
      "\n",
      "> Brosnan\n",
      "(-1.02) Czech\n",
      "(-1.28) English\n",
      "(-2.27) German\n",
      "\n",
      "> Connery\n",
      "(-0.52) Irish\n",
      "(-1.59) French\n",
      "(-2.23) Scottish\n"
     ]
    }
   ],
   "execution_count": 22
  },
  {
   "metadata": {},
   "cell_type": "markdown",
   "source": [
    "# Define LSTM RNN\n",
    "\n",
    "LSTM layer is used in place of the RNN's linear hidden layer."
   ],
   "id": "e162094e10496e8d"
  },
  {
   "metadata": {
    "ExecuteTime": {
     "end_time": "2025-01-14T02:33:07.652513Z",
     "start_time": "2025-01-14T02:33:07.643587Z"
    }
   },
   "cell_type": "code",
   "source": [
    "import torch.nn as nn\n",
    "\n",
    "class LSTM_RNN(nn.Module):\n",
    "    def __init__(self, input_size, hidden_size, output_size):\n",
    "        super(LSTM_RNN, self).__init__()\n",
    "\n",
    "        # Replace nn.Linear and nn.Tanh with nn.LSTM\n",
    "        self.hidden_size = hidden_size\n",
    "        self.lstm = nn.LSTM(input_size, hidden_size)\n",
    "\n",
    "        # output layer\n",
    "        self.h2o = nn.Linear(hidden_size, output_size)\n",
    "        self.softmax = nn.LogSoftmax(dim=1)\n",
    "\n",
    "    def forward(self, input, atminus1, htminus1):\n",
    "        # Forward propagate\n",
    "        output, (at, ht) = self.lstm(input, (atminus1, htminus1))\n",
    "\n",
    "        # Pass through output layer to get predictions\n",
    "        output = self.h2o(ht)\n",
    "        output = self.softmax(output)\n",
    "\n",
    "        return output, at, ht\n",
    "\n",
    "    def initHidden(self):\n",
    "        return (torch.zeros(1, self.hidden_size), torch.zeros(1, self.hidden_size))\n",
    "\n",
    "n_hidden = 128\n",
    "lstm_rnn = LSTM_RNN(n_letters, n_hidden, n_categories)"
   ],
   "id": "4eea1bd758cb73ee",
   "outputs": [],
   "execution_count": 23
  },
  {
   "metadata": {},
   "cell_type": "markdown",
   "source": "# Training Function",
   "id": "32746e763e14598e"
  },
  {
   "metadata": {
    "ExecuteTime": {
     "end_time": "2025-01-14T02:36:11.678653Z",
     "start_time": "2025-01-14T02:36:11.671811Z"
    }
   },
   "cell_type": "code",
   "source": [
    "learning_rate = 0.05\n",
    "criterion = nn.NLLLoss()\n",
    "optimizer = torch.optim.SGD(lstm_rnn.parameters(), lr = learning_rate)\n",
    "\n",
    "def train_LSTM_RNN(category_tensor, line_tensor):\n",
    "    atminus1, htminus1 = lstm_rnn.initHidden()\n",
    "\n",
    "    optimizer.zero_grad()\n",
    "    for i in range(line_tensor.size()[0]):\n",
    "        input_char = line_tensor[i]\n",
    "        output, atminus1, htminus1  = lstm_rnn(input_char, atminus1, htminus1)\n",
    "\n",
    "    # Calculate loss using final output\n",
    "    loss = criterion(output, category_tensor)\n",
    "\n",
    "    # Backpropagation\n",
    "    loss.backward()\n",
    "\n",
    "    # Update parameters\n",
    "    optimizer.step()\n",
    "\n",
    "    return output, loss.item()"
   ],
   "id": "5f330884e40d2a58",
   "outputs": [],
   "execution_count": 24
  },
  {
   "metadata": {},
   "cell_type": "markdown",
   "source": "# Training Loop",
   "id": "4caeb17bf5a2d0e2"
  },
  {
   "metadata": {
    "ExecuteTime": {
     "end_time": "2025-01-14T02:52:19.357441Z",
     "start_time": "2025-01-14T02:44:07.751330Z"
    }
   },
   "cell_type": "code",
   "source": [
    "# Set random seed for Python\n",
    "random_seed = 0\n",
    "random.seed(random_seed)\n",
    "\n",
    "# Set random seed for NumPy\n",
    "np.random.seed(random_seed)\n",
    "\n",
    "# Set random seed for PyTorch\n",
    "torch.manual_seed(random_seed)\n",
    "torch.backends.cudnn.deterministic = True\n",
    "torch.backends.cudnn.benchmark = False\n",
    "\n",
    "n_iters = 100000\n",
    "print_every = 5000\n",
    "\n",
    "plot_every = 1000\n",
    "\n",
    "# Keep track of losses for plotting\n",
    "current_loss = 0\n",
    "all_losses = []\n",
    "\n",
    "def timeSince(since):\n",
    "    now = time.time()\n",
    "    s = now - since\n",
    "    m = math.floor(s / 60)\n",
    "    s -= m * 60\n",
    "    return '%dm %ds' % (m, s)\n",
    "\n",
    "start = time.time()\n",
    "\n",
    "for iter in range(1, n_iters + 1):\n",
    "    # Get training data samples from randomTrainingExample, then use train_LSTM_RNN to\n",
    "    # obtain output and loss, accumulate loss in current_loss\n",
    "    category, line, category_tensor, line_tensor = randomTrainingExample()\n",
    "    output, loss, = train_LSTM_RNN(category_tensor, line_tensor)\n",
    "    current_loss += loss\n",
    "\n",
    "    # Print iteration number, loss, name and prediction\n",
    "    if iter % print_every == 0:\n",
    "        prediction, prediction_i = categoryFromOutput(output)\n",
    "        correct = '✓' if prediction == category else '✗ (%s)' % category\n",
    "        print('%d %d%% (%s) %.4f %s / %s %s' % (iter, iter / n_iters * 100, timeSince(start),\n",
    "                                                loss, line, prediction, correct))\n",
    "\n",
    "    # Add current loss avg to list of losses\n",
    "    if iter % plot_every == 0:\n",
    "        all_losses.append(current_loss / plot_every)\n",
    "        current_loss = 0"
   ],
   "id": "c5d4dd79e659eb63",
   "outputs": [
    {
     "name": "stdout",
     "output_type": "stream",
     "text": [
      "5000 5% (0m 23s) 6.8342 Gajos / Greek ✗ (Polish)\n",
      "10000 10% (0m 45s) 2.1167 D'cruze / French ✗ (Portuguese)\n",
      "15000 15% (1m 12s) 1.6747 Yosano / Italian ✗ (Japanese)\n",
      "20000 20% (1m 35s) 1.2306 Blecher / German ✓\n",
      "25000 25% (2m 0s) 2.5685 Black / Polish ✗ (Scottish)\n",
      "30000 30% (2m 31s) 0.0432 Adamidis / Greek ✓\n",
      "35000 35% (2m 57s) 0.0002 Kouropoulos / Greek ✓\n",
      "40000 40% (3m 20s) 0.7112 Arendonk / Dutch ✓\n",
      "45000 45% (3m 44s) 1.0139 Holub / German ✗ (Czech)\n",
      "50000 50% (4m 8s) 0.0083 Perreault / French ✓\n",
      "55000 55% (4m 31s) 2.0031 Sai / Chinese ✗ (Vietnamese)\n",
      "60000 60% (4m 54s) 1.6402 Mori / Italian ✗ (Japanese)\n",
      "65000 65% (5m 20s) 3.7690 Tso / Vietnamese ✗ (Chinese)\n",
      "70000 70% (5m 44s) 0.0409 Shamon / Arabic ✓\n",
      "75000 75% (6m 8s) 1.0757 Otani / Italian ✗ (Japanese)\n",
      "80000 80% (6m 33s) 0.0097 Tahan / Arabic ✓\n",
      "85000 85% (6m 56s) 0.0010 Papoutsis / Greek ✓\n",
      "90000 90% (7m 20s) 1.5632 Forster / French ✗ (English)\n",
      "95000 95% (7m 47s) 0.0223 Klerkx / Dutch ✓\n",
      "100000 100% (8m 11s) 0.0220 Plourde / French ✓\n"
     ]
    }
   ],
   "execution_count": 26
  },
  {
   "metadata": {},
   "cell_type": "markdown",
   "source": "# Plot Results",
   "id": "18839b5c9654dd76"
  },
  {
   "metadata": {
    "ExecuteTime": {
     "end_time": "2025-01-14T02:52:46.446227Z",
     "start_time": "2025-01-14T02:52:46.362068Z"
    }
   },
   "cell_type": "code",
   "source": [
    "import matplotlib.pyplot as plt\n",
    "import matplotlib.ticker as ticker\n",
    "\n",
    "plt.figure()\n",
    "plt.plot(all_losses)"
   ],
   "id": "a644988991a25a58",
   "outputs": [
    {
     "data": {
      "text/plain": [
       "[<matplotlib.lines.Line2D at 0x279b2f9e900>]"
      ]
     },
     "execution_count": 27,
     "metadata": {},
     "output_type": "execute_result"
    },
    {
     "data": {
      "text/plain": [
       "<Figure size 640x480 with 1 Axes>"
      ],
      "image/png": "[encoded data removed]"
     },
     "metadata": {},
     "output_type": "display_data"
    }
   ],
   "execution_count": 27
  },
  {
   "metadata": {},
   "cell_type": "markdown",
   "source": "# Evaluate Results",
   "id": "4b5d00e24220bf0a"
  },
  {
   "metadata": {
    "ExecuteTime": {
     "end_time": "2025-01-14T02:53:07.461773Z",
     "start_time": "2025-01-14T02:52:48.749934Z"
    }
   },
   "cell_type": "code",
   "source": [
    "# Set random seed for Python\n",
    "random_seed = 42\n",
    "random.seed(random_seed)\n",
    "\n",
    "# Set random seed for NumPy\n",
    "np.random.seed(random_seed)\n",
    "\n",
    "# Set random seed for PyTorch\n",
    "torch.manual_seed(random_seed)\n",
    "torch.backends.cudnn.deterministic = True\n",
    "torch.backends.cudnn.benchmark = False\n",
    "\n",
    "# Keep track of correct guesses in a confusion matrix\n",
    "confusion = torch.zeros(n_categories, n_categories)\n",
    "n_confusion = 10000\n",
    "\n",
    "# Just return an output given a line\n",
    "def evaluate_lstm(line_tensor):\n",
    "    atminus1, htminus1 = lstm_rnn.initHidden()\n",
    "    for i in range(line_tensor.size()[0]):\n",
    "        with torch.no_grad():\n",
    "            output_lstm, at, ht = lstm_rnn(line_tensor[i], atminus1, htminus1)\n",
    "            atminus1 = at\n",
    "            htminus1 = ht\n",
    "    return output_lstm\n",
    "\n",
    "# Go through a bunch of examples and record which are correctly guessed\n",
    "for i in range(n_confusion):\n",
    "    category, line, category_tensor, line_tensor = randomTrainingExample()\n",
    "    output_lstm = evaluate_lstm(line_tensor)\n",
    "    guess, guess_i = categoryFromOutput(output_lstm)\n",
    "    category_i = all_categories.index(category)\n",
    "    confusion[category_i][guess_i] += 1\n",
    "\n",
    "# Normalize by dividing every row by its sum\n",
    "for i in range(n_categories):\n",
    "    confusion[i] = confusion[i] / confusion[i].sum()\n",
    "\n",
    "# Set up plot\n",
    "fig = plt.figure()\n",
    "ax = fig.add_subplot(111)\n",
    "cax = ax.matshow(confusion.numpy())\n",
    "fig.colorbar(cax)\n",
    "\n",
    "# Set up axes\n",
    "ax.set_xticklabels([''] + all_categories, rotation=90)\n",
    "ax.set_yticklabels([''] + all_categories)\n",
    "\n",
    "# Force label at every tick\n",
    "ax.xaxis.set_major_locator(ticker.MultipleLocator(1))\n",
    "ax.yaxis.set_major_locator(ticker.MultipleLocator(1))\n",
    "\n",
    "plt.show()"
   ],
   "id": "474b5bb7de11797c",
   "outputs": [
    {
     "name": "stderr",
     "output_type": "stream",
     "text": [
      "C:\\Users\\rober\\AppData\\Local\\Temp\\ipykernel_8184\\1814499653.py:46: UserWarning: set_ticklabels() should only be used with a fixed number of ticks, i.e. after set_ticks() or using a FixedLocator.\n",
      "  ax.set_xticklabels([''] + all_categories, rotation=90)\n",
      "C:\\Users\\rober\\AppData\\Local\\Temp\\ipykernel_8184\\1814499653.py:47: UserWarning: set_ticklabels() should only be used with a fixed number of ticks, i.e. after set_ticks() or using a FixedLocator.\n",
      "  ax.set_yticklabels([''] + all_categories)\n"
     ]
    },
    {
     "data": {
      "text/plain": [
       "<Figure size 640x480 with 2 Axes>"
      ],
      "image/png": "[encoded data removed]"
     },
     "metadata": {},
     "output_type": "display_data"
    }
   ],
   "execution_count": 28
  },
  {
   "metadata": {},
   "cell_type": "markdown",
   "source": "# Make Predictions on User Input",
   "id": "778c502ae420a1a1"
  },
  {
   "metadata": {
    "ExecuteTime": {
     "end_time": "2025-01-14T02:53:11.308874Z",
     "start_time": "2025-01-14T02:53:11.291876Z"
    }
   },
   "cell_type": "code",
   "source": [
    "def predict(input_line, n_predictions=3):\n",
    "    print('\\n> %s' % input_line)\n",
    "    output_lstm = evaluate(lineToTensor(input_line))\n",
    "\n",
    "    # Get top N categories\n",
    "    topv, topi = output_lstm.topk(n_predictions, 1, True)\n",
    "    predictions = []\n",
    "\n",
    "    for i in range(n_predictions):\n",
    "        value = topv[0][i].item()\n",
    "        category_index = topi[0][i].item()\n",
    "        print('(%.2f) %s' % (value, all_categories[category_index]))\n",
    "        predictions.append([value, all_categories[category_index]])\n",
    "\n",
    "predict('Dostoevsky')\n",
    "predict('Doveski')\n",
    "predict('Jackson')\n",
    "predict('Satoshi')\n",
    "predict('Giorgos')\n",
    "predict('Apostolopoulos')\n",
    "predict('Brosnan')\n",
    "predict('Connery')"
   ],
   "id": "30a2e1314ffe7b59",
   "outputs": [
    {
     "name": "stdout",
     "output_type": "stream",
     "text": [
      "\n",
      "> Dostoevsky\n",
      "(-0.52) Russian\n",
      "(-1.29) Czech\n",
      "(-2.29) English\n",
      "\n",
      "> Doveski\n",
      "(-1.46) Japanese\n",
      "(-1.48) Polish\n",
      "(-1.66) Italian\n",
      "\n",
      "> Jackson\n",
      "(-0.01) Scottish\n",
      "(-5.23) English\n",
      "(-5.45) Polish\n",
      "\n",
      "> Satoshi\n",
      "(-0.49) Japanese\n",
      "(-1.83) Italian\n",
      "(-2.17) Polish\n",
      "\n",
      "> Giorgos\n",
      "(-0.26) Scottish\n",
      "(-2.52) Spanish\n",
      "(-3.41) Arabic\n",
      "\n",
      "> Apostolopoulos\n",
      "(-0.03) Greek\n",
      "(-4.11) Polish\n",
      "(-5.28) Spanish\n",
      "\n",
      "> Brosnan\n",
      "(-1.02) Czech\n",
      "(-1.28) English\n",
      "(-2.27) German\n",
      "\n",
      "> Connery\n",
      "(-0.52) Irish\n",
      "(-1.59) French\n",
      "(-2.23) Scottish\n"
     ]
    }
   ],
   "execution_count": 29
  }
 ],
 "metadata": {
  "kernelspec": {
   "display_name": "Python 3",
   "language": "python",
   "name": "python3"
  },
  "language_info": {
   "codemirror_mode": {
    "name": "ipython",
    "version": 2
   },
   "file_extension": ".py",
   "mimetype": "text/x-python",
   "name": "python",
   "nbconvert_exporter": "python",
   "pygments_lexer": "ipython2",
   "version": "2.7.6"
  }
 },
 "nbformat": 4,
 "nbformat_minor": 5
}
