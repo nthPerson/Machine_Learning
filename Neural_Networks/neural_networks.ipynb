{
 "cells": [
  {
   "metadata": {},
   "cell_type": "markdown",
   "source": [
    "# Neural Network from First Principles\n",
    "\n",
    "This is an example of a simple 2-layer neural network constructed from first principles using Numpy, which will perform a binary classification task.\n",
    "\n",
    "The input size is the number of pixels in a $64 x 64 = 4096$ image.  The size of the hidden layer is determined by the hyperparameter `n_h`, and the size of the output layer is $1$ to facilitate the binary classification capability of the model."
   ],
   "id": "6c8a81baeeef9174"
  },
  {
   "metadata": {},
   "cell_type": "markdown",
   "source": "Import utils package and load data",
   "id": "4500748b09898c6b"
  },
  {
   "metadata": {
    "ExecuteTime": {
     "end_time": "2025-01-13T03:09:15.585500Z",
     "start_time": "2025-01-13T03:09:15.572697Z"
    }
   },
   "cell_type": "code",
   "source": [
    "from Neural_Networks.utils import *\n",
    "\n",
    "%matplotlib inline\n",
    "np.random.seed(1)\n",
    "\n",
    "# Load data\n",
    "#Since data is in n x m format, convert into m x n format, m: sample size, n: number of features\n",
    "X_train_orig, y_train_orig, X_test_orig, y_test_orig = load_data()\n",
    "X_train = X_train_orig.T\n",
    "y_train = y_train_orig.T\n",
    "X_test = X_test_orig.T\n",
    "y_test = y_test_orig.T\n",
    "\n",
    "print(X_train.shape)\n",
    "print(y_train.shape)\n",
    "print(X_test.shape)\n",
    "print(y_test.shape)"
   ],
   "id": "48b79938ce6d6bd",
   "outputs": [
    {
     "name": "stdout",
     "output_type": "stream",
     "text": [
      "(286, 4096)\n",
      "(286, 1)\n",
      "(125, 4096)\n",
      "(125, 1)\n"
     ]
    }
   ],
   "execution_count": 13
  },
  {
   "metadata": {},
   "cell_type": "markdown",
   "source": [
    "# Initialize Parameters\n",
    "\n",
    "The parameters associated with the hidden layer are $W^{[1]}$ and $b^{[1]}$, and the parameters associated with the output layer are $W^{[2]}$ and $b^{[2]}$.\n",
    "\n",
    "We use **tanh** as the activation function for hidden layer, and **sigmoid** for the output layer."
   ],
   "id": "7996f5421d447475"
  },
  {
   "metadata": {
    "ExecuteTime": {
     "end_time": "2025-01-13T03:09:15.642544Z",
     "start_time": "2025-01-13T03:09:15.636137Z"
    }
   },
   "cell_type": "code",
   "source": [
    "def init_params(n_i, n_h, n_o):\n",
    "    \"\"\"\n",
    "    Args:\n",
    "    n_i -- size of input layer\n",
    "    n_h -- size of hidden layer\n",
    "    n_o -- size of output layer\n",
    "\n",
    "    Return:\n",
    "    params -- a dict object containing all parameters:\n",
    "        W1 -- weight matrix of layer 1\n",
    "        b1 -- bias vector of layer 1\n",
    "        W2 -- weight matrix of layer 2\n",
    "        b2 -- bias vector of layer 2\n",
    "    \"\"\"\n",
    "    np.random.seed(2) # For deterministic repeatability\n",
    "\n",
    "    # hidden layer parameters\n",
    "    W1 = np.random.randn(n_h, n_i) * (0.01)\n",
    "    b1 = np.zeros((1, n_h))\n",
    "\n",
    "    # output layer parameters\n",
    "    W2 = np.random.randn(n_o, n_h) * (0.01)\n",
    "    b2 = np.zeros((1, n_o))\n",
    "\n",
    "    params = {'W1': W1, 'b1': b1, 'W2': W2, 'b2': b2}\n",
    "\n",
    "\n",
    "    return params\n",
    "\n",
    "ps = init_params(3, 4, 1)\n",
    "print('W1 =', ps['W1'])\n",
    "print('b1 =' ,ps['b1'])\n",
    "print('W2 =', ps['W2'])\n",
    "print('b2 =', ps['b2'])"
   ],
   "id": "292baa85d02c7ee5",
   "outputs": [
    {
     "name": "stdout",
     "output_type": "stream",
     "text": [
      "W1 = [[-0.00416758 -0.00056267 -0.02136196]\n",
      " [ 0.01640271 -0.01793436 -0.00841747]\n",
      " [ 0.00502881 -0.01245288 -0.01057952]\n",
      " [-0.00909008  0.00551454  0.02292208]]\n",
      "b1 = [[0. 0. 0. 0.]]\n",
      "W2 = [[ 0.00041539 -0.01117925  0.00539058 -0.0059616 ]]\n",
      "b2 = [[0.]]\n"
     ]
    }
   ],
   "execution_count": 14
  },
  {
   "metadata": {},
   "cell_type": "markdown",
   "source": [
    "# Forward Propagation\n",
    "\n",
    "The following formulas are used to implement forward propagation:\n",
    "- $z^{[1]} = XW^{[1]T} + b^{[1]}$\n",
    "- $a^{[1]} = tanh(z^{[1]})$\n",
    "- $z^{[2]} = a^{[1]}W^{[2]T} + b^{[2]}$\n",
    "- $z^{[2]} = \\sigma(z^{[2]})$"
   ],
   "id": "8601495dbe27f198"
  },
  {
   "metadata": {
    "ExecuteTime": {
     "end_time": "2025-01-13T03:09:15.720485Z",
     "start_time": "2025-01-13T03:09:15.710484Z"
    }
   },
   "cell_type": "code",
   "source": [
    "def forward_prop(X, params):\n",
    "    \"\"\"\n",
    "    Args:\n",
    "    X -- input data of shape (m,n_in)\n",
    "    params -- a python dict object containing all parameters (output of init_params)\n",
    "\n",
    "    Return:\n",
    "    a2 -- the activation of the output layer\n",
    "    cache -- a python dict containing all intermediate values for later use in backprop\n",
    "             i.e., 'z1', 'a1', 'z2', 'a2'\n",
    "    \"\"\"\n",
    "    m = X.shape[0]\n",
    "\n",
    "    # Retrieve parameters from params\n",
    "    W1 = np.array(params['W1'])\n",
    "    b1 = np.array(params['b1'])\n",
    "\n",
    "    W2 = np.array(params['W2'])\n",
    "    b2 = np.array(params['b2'])\n",
    "\n",
    "    # Implement forward propagation\n",
    "    z1 = np.dot(X, W1.T) + b1\n",
    "    a1 = np.tanh(z1)\n",
    "\n",
    "    z2 = np.dot(a1, W2.T) + b2\n",
    "    a2 = sigmoid(z2)\n",
    "\n",
    "    assert a1.shape[0] == m\n",
    "    assert a2.shape[0] == m\n",
    "\n",
    "    cache = {'z1': z1, 'a1': a1, 'z2': z2, 'a2': a2}\n",
    "\n",
    "    return a2, cache\n",
    "\n",
    "X_tmp, params_tmp = forwardprop_testcase()\n",
    "\n",
    "a2, cache = forward_prop(X_tmp, params_tmp)\n",
    "\n",
    "print('mean(z1) =', np.mean(cache['z1']))\n",
    "print('mean(a1) =', np.mean(cache['a1']))\n",
    "print('mean(z2) =', np.mean(cache['z2']))\n",
    "print('mean(a2) =', np.mean(cache['a2']))"
   ],
   "id": "30fdec3b04cd0ec3",
   "outputs": [
    {
     "name": "stdout",
     "output_type": "stream",
     "text": [
      "mean(z1) = 0.006415781628350418\n",
      "mean(a1) = 0.006410368144939439\n",
      "mean(z2) = -6.432516196270971e-05\n",
      "mean(a2) = 0.49998391870952374\n"
     ]
    }
   ],
   "execution_count": 15
  },
  {
   "metadata": {},
   "cell_type": "markdown",
   "source": [
    "# Backward Propagation\n",
    "\n",
    "The following formulas are used to implement backward propagation:\n",
    "- $dz^{[2]} = a^{[2]} - y$\n",
    "- $dW^{[2]} = \\frac{1}{m}dz^{[2]T}a^{[1]}$ --> where $m$ is the number of examples\n",
    "- $db^{[2]} = \\frac{1}{m}$ np.sum( $dz^{[2]}$, axis=0, keepdims=True)\n",
    "- $da^{[1]} = dz^{[2]}W^{[2]}$\n",
    "- $dz^{[1]} = da^{[1]}*g'(z^{[1]})$\n",
    "    - Here $*$ denotes element-wise multiplication\n",
    "    - $g(z)$ is the tanh function, therefore its derivative is $g'(z^{[1]}) = 1 - (g(z^{[1]}))^2 = 1 - (a^{[1]})^2$\n",
    "- $d{W}^{[1]} = \\frac{1}{m} d{z}^{[1]T}X$\n",
    "- $d{b}^{[1]} = \\frac{1}{m}$ np.sum( $d{z}^{[1]}$, axis=0, keepdims=True)"
   ],
   "id": "7def1be1c12eba15"
  },
  {
   "metadata": {
    "ExecuteTime": {
     "end_time": "2025-01-13T03:09:15.764289Z",
     "start_time": "2025-01-13T03:09:15.755835Z"
    }
   },
   "cell_type": "code",
   "source": [
    "def backward_prop(X, y, params, cache):\n",
    "    \"\"\"\n",
    "    Args:\n",
    "    X -- input data of shape (m,n_in)\n",
    "    y -- input label of shape (m,1)\n",
    "    params -- a python dict containing all parameters\n",
    "    cache -- a python dict containing 'Z1', 'A1', 'Z2' and 'A2' (output of forward_prop)\n",
    "\n",
    "    Return:\n",
    "    grads -- a python dict containing the gradients w.r.t. all parameters,\n",
    "             i.e., dW1, db1, dW2, db2\n",
    "    \"\"\"\n",
    "    m = X.shape[0]\n",
    "\n",
    "    # Retrieve parameters\n",
    "    W1 = np.array(params['W1'])\n",
    "    b1 = np.array(params['b1'])\n",
    "    W2 = np.array(params['W2'])\n",
    "    b2 = np.array(params['b2'])\n",
    "\n",
    "    # Retrieve intermediate values stored in cache\n",
    "    z1 = np.array(cache['z1'])\n",
    "    a1 = np.array(cache['a1'])\n",
    "    z2 = np.array(cache['z2'])\n",
    "    a2 = np.array(cache['a2'])\n",
    "\n",
    "    # Implement backprop\n",
    "    dz2 = a2 - y\n",
    "    dW2 = (1 / m) * np.dot(dz2.T, a1)\n",
    "    db2 = (1 / m) * np.sum(dz2, axis=0, keepdims=True)\n",
    "    da1 = np.dot(dz2, W2)\n",
    "    dz1 = np.multiply(da1, (1 - a1**2))\n",
    "    dW1 = (1 / m) * np.dot(dz1.T, X)\n",
    "    db1 = (1 / m) * np.sum(dz1, axis=0, keepdims=True)\n",
    "\n",
    "    grads = {'dW1': dW1, 'db1': db1, 'dW2': dW2, 'db2': db2}\n",
    "\n",
    "    return grads\n",
    "\n",
    "X_tmp, y_tmp, params_tmp, cache_tmp = backprop_testcase()\n",
    "\n",
    "grads = backward_prop(X_tmp, y_tmp, params_tmp, cache_tmp)\n",
    "print('mean(dW1)', np.mean(grads['dW1']))\n",
    "print('mean(db1)', np.mean(grads['db1']))\n",
    "print('mean(dW2)', np.mean(grads['dW2']))\n",
    "print('mean(db2)', np.mean(grads['db2']))"
   ],
   "id": "f932a54516c1be1c",
   "outputs": [
    {
     "name": "stdout",
     "output_type": "stream",
     "text": [
      "mean(dW1) -0.00014844465852477853\n",
      "mean(db1) -0.0002838378969105248\n",
      "mean(dW2) -0.004079186018202939\n",
      "mean(db2) 0.09998392000000002\n"
     ]
    }
   ],
   "execution_count": 16
  },
  {
   "metadata": {},
   "cell_type": "markdown",
   "source": [
    "# Update Parameters\n",
    "\n",
    "Update $W^{[1]}, b^{[1]}, W^{[2]}, b^{[2]}$ as follows:\n",
    "- $W^{[1]} = W^{[1]} - \\alpha\\ dW^{[1]}$\n",
    "- $b^{[1]} = b^{[1]} - \\alpha\\ db^{[1]}$\n",
    "- $W^{[2]} = W^{[2]} - \\alpha\\ dW^{[2]}$\n",
    "- $b^{[2]} = b^{[2]} - \\alpha\\ db^{[2]}$"
   ],
   "id": "ee94912a70eea9f0"
  },
  {
   "metadata": {
    "ExecuteTime": {
     "end_time": "2025-01-13T03:09:15.816191Z",
     "start_time": "2025-01-13T03:09:15.808873Z"
    }
   },
   "cell_type": "code",
   "source": [
    "def update_params(params, grads, alpha):\n",
    "    \"\"\"\n",
    "    Args:\n",
    "    params -- a python dict containing all parameters\n",
    "    grads -- a python dict containing the gradients w.r.t. all parameters (output of backward_prop)\n",
    "    alpha -- learning rate\n",
    "\n",
    "    Return:\n",
    "    params -- a python dict containing all updated parameters\n",
    "    \"\"\"\n",
    "\n",
    "    # Retrieve parameters\n",
    "    W1 = np.array(params['W1'])\n",
    "    b1 = np.array(params['b1'])\n",
    "    W2 = np.array(params['W2'])\n",
    "    b2 = np.array(params['b2'])\n",
    "\n",
    "    # Retrieve gradients\n",
    "    dW1 = np.array(grads['dW1'])\n",
    "    db1 = np.array(grads['db1'])\n",
    "    dW2 = np.array(grads['dW2'])\n",
    "    db2 = np.array(grads['db2'])\n",
    "\n",
    "    # Update each parameter\n",
    "    params['W1'] = W1 - (alpha * dW1)\n",
    "    params['b1'] = b1 - (alpha * db1)\n",
    "    params['W2'] = W2 - (alpha * dW2)\n",
    "    params['b2'] = b2 - (alpha * db2)\n",
    "\n",
    "    return params\n",
    "\n",
    "params_tmp, grads_tmp = update_params_testcase()\n",
    "\n",
    "params = update_params(params_tmp, grads_tmp, 0.01)\n",
    "print('W1 =', params['W1'])\n",
    "print('b1 =', params['b1'])\n",
    "print('W2 =', params['W2'])\n",
    "print('b2 =', params['b2'])"
   ],
   "id": "6864892350b430a8",
   "outputs": [
    {
     "name": "stdout",
     "output_type": "stream",
     "text": [
      "W1 = [[ 0.004169   -0.00056367 -0.02136304]\n",
      " [ 0.0163645  -0.01790747 -0.00838857]\n",
      " [ 0.00504726 -0.01246588 -0.01059348]\n",
      " [-0.00911046  0.0055289   0.0229375 ]]\n",
      "b1 = [[-4.13852251e-07  1.12173654e-05 -5.39304763e-06  5.94305036e-06]]\n",
      "W2 = [[ 0.00048642 -0.011058    0.00546531 -0.00606545]]\n",
      "b2 = [[-0.00099984]]\n"
     ]
    }
   ],
   "execution_count": 17
  },
  {
   "metadata": {},
   "cell_type": "markdown",
   "source": "# Integrated Model",
   "id": "eb283ecdc442dc19"
  },
  {
   "metadata": {
    "ExecuteTime": {
     "end_time": "2025-01-13T03:09:16.211610Z",
     "start_time": "2025-01-13T03:09:15.841267Z"
    }
   },
   "cell_type": "code",
   "source": [
    "def nn_model(X, y, n_h, num_iters=10000, alpha=0.01, verbose=False):\n",
    "    \"\"\"\n",
    "    Args:\n",
    "    X -- training data of shape (m,n_in)\n",
    "    y -- training label of shape (m,1)\n",
    "    n_h -- size of hidden layer\n",
    "    num_iters -- number of iterations for gradient descent\n",
    "    verbose -- print cost every 1000 steps\n",
    "\n",
    "    Return:\n",
    "    params -- parameters learned by the model. Use these to make predictions on new data\n",
    "    \"\"\"\n",
    "    np.random.seed(3)\n",
    "    m = X.shape[0]\n",
    "    n_in = X.shape[1]\n",
    "    n_out = 1\n",
    "\n",
    "    # Initialize parameters and retrieve them\n",
    "    params = init_params(n_in, n_h, n_out)\n",
    "\n",
    "    cost = 0 # added to allow usage of cost outside for loop\n",
    "    # Gradient descent loop\n",
    "    for i in range(num_iters):\n",
    "        # Forward propagation\n",
    "        y_hat, model_cache = forward_prop(X, params)\n",
    "\n",
    "        # Backward propagation\n",
    "        gradients = backward_prop(X, y, params, model_cache)\n",
    "\n",
    "        # Update parameters\n",
    "        params = update_params(params, gradients, alpha)\n",
    "\n",
    "        # Compute cost\n",
    "        cost = -(1 / m) * np.sum(y * np.log(y_hat) + (1 - y) * np.log(1 - y_hat))\n",
    "\n",
    "        # Print cost\n",
    "        if i % 1000 == 0 and verbose:\n",
    "            print('Cost after iter {}: {}'.format(i, cost))\n",
    "\n",
    "    # print cost of final iteration\n",
    "    print('Cost after iter {}: {}'.format(num_iters, cost))\n",
    "\n",
    "    return params\n",
    "\n",
    "X_tmp, y_tmp = nn_model_testcase()\n",
    "\n",
    "params_tmp = nn_model(X_tmp, y_tmp, n_h=5, num_iters=5000, alpha=0.01)\n",
    "# params_tmp = nn_model(X_tmp, y_tmp, n_h=5, num_iters=5000, alpha=0.01, verbose=True)\n",
    "print('W1 =', params_tmp['W1'])\n",
    "print('b1 =', params_tmp['b1'])\n",
    "print('W2 =', params_tmp['W2'])"
   ],
   "id": "5e0085119ac61c96",
   "outputs": [
    {
     "name": "stdout",
     "output_type": "stream",
     "text": [
      "Cost after iter 5000: 0.018944299307132376\n",
      "W1 = [[ 0.30237531 -0.17417915 -0.15306611]\n",
      " [ 1.25575279 -0.42239646 -0.35147978]\n",
      " [ 1.29886467 -0.43536728 -0.36668058]\n",
      " [-1.32065465  0.43563934  0.37269501]\n",
      " [ 0.41146082 -0.22524765 -0.15315463]]\n",
      "b1 = [[-0.10251157 -0.82319548 -0.85962928  0.87045666 -0.16520153]]\n",
      "W2 = [[ 0.42009393  1.87265216  1.95145175 -1.98319859  0.56655482]]\n"
     ]
    }
   ],
   "execution_count": 18
  },
  {
   "metadata": {},
   "cell_type": "markdown",
   "source": "# Use Model to Make Prediction",
   "id": "1a75332d66654072"
  },
  {
   "metadata": {
    "ExecuteTime": {
     "end_time": "2025-01-13T03:09:16.232456Z",
     "start_time": "2025-01-13T03:09:16.225839Z"
    }
   },
   "cell_type": "code",
   "source": [
    "def predict(X, params):\n",
    "    \"\"\"\n",
    "    Args:\n",
    "    X -- input data of shape (m,n_in)\n",
    "    params -- a python dict containing the learned parameters\n",
    "\n",
    "    Return:\n",
    "    pred -- predictions of model on X, a vector of 0s and 1s\n",
    "    \"\"\"\n",
    "\n",
    "    a2, _ = forward_prop(X, params)\n",
    "    pred = np.where(a2 > 0.5, 1.0, 0.0)\n",
    "\n",
    "    return pred\n",
    "\n",
    "pred = predict(X_tmp, params_tmp)\n",
    "print('predictions = ', pred)"
   ],
   "id": "42ee442338836910",
   "outputs": [
    {
     "name": "stdout",
     "output_type": "stream",
     "text": [
      "predictions =  [[0.]\n",
      " [1.]\n",
      " [1.]\n",
      " [0.]\n",
      " [0.]]\n"
     ]
    }
   ],
   "execution_count": 19
  },
  {
   "metadata": {},
   "cell_type": "markdown",
   "source": "# Train and Evaluate Model",
   "id": "6753b8eed06be897"
  },
  {
   "metadata": {
    "ExecuteTime": {
     "end_time": "2025-01-13T03:10:38.914480Z",
     "start_time": "2025-01-13T03:09:16.247324Z"
    }
   },
   "cell_type": "code",
   "source": [
    "# Train the model on X_train and y_train, and print cost\n",
    "\n",
    "params = nn_model(X_train, y_train, n_h = 10, num_iters=10000, verbose=True)\n",
    "# params = nn_model(X_train, y_train, n_h = 10, num_iters=2000, verbose=True)\n",
    "\n",
    "# Make predictions on X_test\n",
    "pred = predict(X_test, params)\n",
    "\n",
    "\n",
    "# Compute accuracy, acc, by comparing predictions and y_test\n",
    "\n",
    "# true positive: predicted positive when actually positive\n",
    "TP = np.sum(np.where((pred == 1) & (y_test == 1), 1, 0))\n",
    "# false positive: predicted positive when actually negative\n",
    "FP = np.sum(np.where((pred == 1) & (y_test == 0), 1, 0))\n",
    "# true negative: predicted negative when actually negative\n",
    "TN = np.sum(np.where((pred == 0) & (y_test == 0), 1, 0))\n",
    "# false negative: predicted negative when actually positive\n",
    "FN = np.sum(np.where((pred == 0) & (y_test == 1), 1, 0))\n",
    "\n",
    "acc = (TP + TN) / (TP + FP + TN + FN)\n",
    "\n",
    "print('Accuracy = {0:.2f}%'.format(acc * 100))"
   ],
   "id": "6da2055e9c3a56d5",
   "outputs": [
    {
     "name": "stdout",
     "output_type": "stream",
     "text": [
      "Cost after iter 0: 0.6931077265775999\n",
      "Cost after iter 1000: 0.2720475478319349\n",
      "Cost after iter 2000: 0.05469637887688324\n",
      "Cost after iter 3000: 0.02430101784614092\n",
      "Cost after iter 4000: 0.014579972250089317\n",
      "Cost after iter 5000: 0.010120587793618466\n",
      "Cost after iter 6000: 0.007636411687846548\n",
      "Cost after iter 7000: 0.006077673661571548\n",
      "Cost after iter 8000: 0.005018451353041394\n",
      "Cost after iter 9000: 0.004256522258860162\n",
      "Cost after iter 10000: 0.0036851156885626913\n",
      "Accuracy = 95.20%\n"
     ]
    }
   ],
   "execution_count": 20
  }
 ],
 "metadata": {
  "kernelspec": {
   "display_name": "Python 3",
   "language": "python",
   "name": "python3"
  },
  "language_info": {
   "codemirror_mode": {
    "name": "ipython",
    "version": 2
   },
   "file_extension": ".py",
   "mimetype": "text/x-python",
   "name": "python",
   "nbconvert_exporter": "python",
   "pygments_lexer": "ipython2",
   "version": "2.7.6"
  }
 },
 "nbformat": 4,
 "nbformat_minor": 5
}
