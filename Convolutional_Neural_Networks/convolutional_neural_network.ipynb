{
 "cells": [
  {
   "metadata": {},
   "cell_type": "raw",
   "source": [
    " # Convolutional Neural Networks\n",
    "\n",
    " CNN example using PyTorch to perform image classification on the MNIST dataset of handwritten digits.\n",
    "\n",
    " Import packages"
   ],
   "id": "e349bac6d4a3b65f"
  },
  {
   "metadata": {
    "ExecuteTime": {
     "end_time": "2025-01-14T01:40:57.031309Z",
     "start_time": "2025-01-14T01:40:52.045258Z"
    }
   },
   "cell_type": "code",
   "source": [
    "import torch\n",
    "from torch import nn\n",
    "from torch.utils.data import DataLoader\n",
    "from torchvision import datasets, transforms\n",
    "import matplotlib.pyplot as plt\n",
    "import random\n",
    "\n",
    "# pytorch computational graph\n",
    "from torchviz import make_dot\n",
    "\n",
    "# Set the seed for PyTorch\n",
    "torch_seed = 42\n",
    "torch.manual_seed(torch_seed)\n",
    "\n",
    "# Determine if a GPU is available\n",
    "compute_device = torch.device(\"cuda\" if torch.cuda.is_available() else \"cpu\")\n",
    "print(f\"Available compute device for training: {compute_device}\")"
   ],
   "id": "52eac740f08fb13d",
   "outputs": [
    {
     "name": "stdout",
     "output_type": "stream",
     "text": [
      "Available compute device for training: cuda\n"
     ]
    }
   ],
   "execution_count": 1
  },
  {
   "metadata": {},
   "cell_type": "markdown",
   "source": [
    "# Load and Normalize Data\n",
    "\n",
    "Normalization values of 0.1307 and 0.3081 are commonly used for the MNIST dataset."
   ],
   "id": "288857fa4f4c2383"
  },
  {
   "metadata": {
    "ExecuteTime": {
     "end_time": "2025-01-14T01:40:57.115855Z",
     "start_time": "2025-01-14T01:40:57.042322Z"
    }
   },
   "cell_type": "code",
   "source": [
    "# Create transform object to aid in normalization of incoming data\n",
    "transform = transforms.Compose([transforms.ToTensor(), transforms.Normalize((0.1307,), (0.3081,))])\n",
    "\n",
    "# Split into training and testing datasets\n",
    "train_data = datasets.MNIST(root='./data', train=True, download=True, transform=transform)\n",
    "test_data = datasets.MNIST(root='./data', train=False, download=True, transform=transform)\n",
    "\n",
    "train_size = len(train_data)\n",
    "print ('train_size', train_size)\n",
    "\n",
    "test_size = len(test_data)\n",
    "print ('test_size', test_size)\n",
    "\n",
    "# Collate function to move data to GPU\n",
    "def collate_fn(batch):\n",
    "    if torch.cuda.is_available():\n",
    "        inputs, targets = zip(*batch)\n",
    "        inputs = torch.stack(inputs).to(compute_device)\n",
    "        targets = torch.tensor(targets).to(compute_device)\n",
    "        return inputs, targets\n",
    "\n",
    "# train_loader = DataLoader(train_data, batch_size=64, shuffle=False)\n",
    "train_loader = DataLoader(train_data, batch_size=64, shuffle=False, collate_fn=collate_fn)\n",
    "# test_loader = DataLoader(test_data,batch_size=1, shuffle=False)\n",
    "test_loader = DataLoader(test_data,batch_size=1, shuffle=False, collate_fn=collate_fn)"
   ],
   "id": "48b695e61df33272",
   "outputs": [
    {
     "name": "stdout",
     "output_type": "stream",
     "text": [
      "train_size 60000\n",
      "test_size 10000\n"
     ]
    }
   ],
   "execution_count": 2
  },
  {
   "metadata": {
    "ExecuteTime": {
     "end_time": "2025-01-14T01:40:57.733042Z",
     "start_time": "2025-01-14T01:40:57.729223Z"
    }
   },
   "cell_type": "code",
   "source": [
    "# # test if data is on GPU\n",
    "# for batch in train_loader:\n",
    "#     for tensor in batch:\n",
    "#         if tensor.is_cuda:\n",
    "#             print('data is on GPU')\n",
    "#         else:\n",
    "#             print('data is on CPU')"
   ],
   "id": "9ac988d22b0b6382",
   "outputs": [],
   "execution_count": 3
  },
  {
   "metadata": {},
   "cell_type": "markdown",
   "source": "# Visualize Data",
   "id": "5b3471949df6e422"
  },
  {
   "metadata": {
    "ExecuteTime": {
     "end_time": "2025-01-14T01:40:58.004218Z",
     "start_time": "2025-01-14T01:40:57.749539Z"
    }
   },
   "cell_type": "code",
   "source": [
    "for images, labels in train_loader:\n",
    "    # Visualize the first image in the batch\n",
    "    plt.imshow(images[0].cpu().squeeze(), cmap='gray')\n",
    "    plt.title(f\"Label: {labels[0]}\")\n",
    "    plt.show()\n",
    "    break  # Break after visualizing the first image in the batch"
   ],
   "id": "938b0d27eaf9a0ee",
   "outputs": [
    {
     "data": {
      "text/plain": [
       "<Figure size 640x480 with 1 Axes>"
      ],
      "image/png": "[encoded data removed]"
     },
     "metadata": {},
     "output_type": "display_data"
    }
   ],
   "execution_count": 4
  },
  {
   "metadata": {},
   "cell_type": "markdown",
   "source": "# Define the Convolutional Neural Network",
   "id": "6b728a69db2cdc2b"
  },
  {
   "metadata": {
    "ExecuteTime": {
     "end_time": "2025-01-14T01:40:58.168367Z",
     "start_time": "2025-01-14T01:40:58.163346Z"
    }
   },
   "cell_type": "code",
   "source": [
    "class MNISTClassifier(nn.Module):\n",
    "    def __init__(self):\n",
    "        super(MNISTClassifier, self).__init__()\n",
    "        self.conv1 = nn.Conv2d(1, 6, 5)  # Input channels (1 for grayscale), output channels (6 filters), kernel size 5\n",
    "        self.pool = nn.MaxPool2d(2, 2)  # Kernel size 2, stride 2\n",
    "        self.conv2 = nn.Conv2d(6, 16, 5)\n",
    "        self.fc1 = nn.Linear(16 * 4 * 4, 120)  # Adjust based on input size after conv2.\n",
    "        # Pooling layer is also applied after the 2nd Conv Layer\n",
    "        self.fc2 = nn.Linear(120, 84)\n",
    "        self.fc3 = nn.Linear(84, 10)  # Output: 10 class probabilities (0-9)\n",
    "\n",
    "    def forward(self, x):\n",
    "        x = self.pool(torch.relu(self.conv1(x)))\n",
    "        x = self.pool(torch.relu(self.conv2(x)))# Pooling layer is also applied after the 2nd Conv Layer\n",
    "        x = x.view(-1, 16 * 4 * 4)  # Flatten for FC layers, The -1 in the first dimension means it will preserve the batch size\n",
    "        x = torch.relu(self.fc1(x))\n",
    "        x = torch.relu(self.fc2(x))\n",
    "        x = self.fc3(x) # Logits will get returned\n",
    "\n",
    "        return x"
   ],
   "id": "8703ac412270af5a",
   "outputs": [],
   "execution_count": 5
  },
  {
   "metadata": {},
   "cell_type": "markdown",
   "source": [
    "# Instantiate the Model\n",
    "\n",
    "Define the loss function and optimizer."
   ],
   "id": "7d795f007e1c6814"
  },
  {
   "metadata": {
    "ExecuteTime": {
     "end_time": "2025-01-14T01:40:58.202875Z",
     "start_time": "2025-01-14T01:40:58.194855Z"
    }
   },
   "cell_type": "code",
   "source": [
    "model = MNISTClassifier().to(compute_device)\n",
    "criterion = nn.CrossEntropyLoss()\n",
    "optimizer = torch.optim.Adam(model.parameters())"
   ],
   "id": "29ca682045889310",
   "outputs": [],
   "execution_count": 6
  },
  {
   "metadata": {},
   "cell_type": "markdown",
   "source": "# Train the Model",
   "id": "ec0e8c6d2223f063"
  },
  {
   "metadata": {
    "ExecuteTime": {
     "end_time": "2025-01-14T01:43:34.891439Z",
     "start_time": "2025-01-14T01:40:58.235254Z"
    }
   },
   "cell_type": "code",
   "source": [
    "num_epochs = 10\n",
    "\n",
    "# Training loop\n",
    "for epoch in range(num_epochs):\n",
    "    running_loss = 0.0\n",
    "    for i, data in enumerate(train_loader):\n",
    "        inputs, labels = data\n",
    "\n",
    "        # Forward pass\n",
    "        optimizer.zero_grad()\n",
    "        outputs = model(inputs)\n",
    "        loss = criterion(outputs, labels)\n",
    "        loss.backward()\n",
    "\n",
    "        # Update weights\n",
    "        optimizer.step()\n",
    "\n",
    "        # Print statistics\n",
    "        running_loss += loss.item()\n",
    "\n",
    "\n",
    "        if (i==937):\n",
    "            print('[%d] loss: %.3f' % (epoch + 1, running_loss/938))\n",
    "            running_loss = 0.0\n"
   ],
   "id": "6cf3ecb5380785bb",
   "outputs": [
    {
     "name": "stdout",
     "output_type": "stream",
     "text": [
      "[1] loss: 0.244\n",
      "[2] loss: 0.075\n",
      "[3] loss: 0.053\n",
      "[4] loss: 0.041\n",
      "[5] loss: 0.032\n",
      "[6] loss: 0.027\n",
      "[7] loss: 0.024\n",
      "[8] loss: 0.020\n",
      "[9] loss: 0.019\n",
      "[10] loss: 0.017\n"
     ]
    }
   ],
   "execution_count": 7
  },
  {
   "metadata": {},
   "cell_type": "markdown",
   "source": "# Calculate Loss for Testing Data",
   "id": "1d129bdc4c488819"
  },
  {
   "metadata": {
    "ExecuteTime": {
     "end_time": "2025-01-14T01:43:44.097626Z",
     "start_time": "2025-01-14T01:43:35.030713Z"
    }
   },
   "cell_type": "code",
   "source": [
    "running_loss = 0.0\n",
    "concatenated_outputs = []\n",
    "\n",
    "for i, data in enumerate(test_loader, 0):\n",
    "    inputs, labels = data\n",
    "    with torch.no_grad():\n",
    "        outputs = model(inputs)\n",
    "        concatenated_outputs.append(outputs)\n",
    "        loss = criterion(outputs, labels)\n",
    "        running_loss += loss.item()\n",
    "\n",
    "# Print statistics\n",
    "print('[%d] loss: %.3f' % (i + 1, running_loss / 10000))\n",
    "\n",
    "final_output = torch.cat(concatenated_outputs, dim=0)\n",
    "print ('final_output shape', final_output.shape)"
   ],
   "id": "3f4380315ca7dba2",
   "outputs": [
    {
     "name": "stdout",
     "output_type": "stream",
     "text": [
      "[10000] loss: 0.046\n",
      "final_output shape torch.Size([10000, 10])\n"
     ]
    }
   ],
   "execution_count": 8
  },
  {
   "metadata": {},
   "cell_type": "markdown",
   "source": "# Test the Trained Convolutional Neural Network Using Random Data Samples",
   "id": "65b24689ecf98a54"
  },
  {
   "metadata": {
    "ExecuteTime": {
     "end_time": "2025-01-14T01:43:47.489190Z",
     "start_time": "2025-01-14T01:43:44.175403Z"
    }
   },
   "cell_type": "code",
   "source": [
    "random.seed(5)\n",
    "\n",
    "# Randomly choose three images\n",
    "random_indices = random.sample(range(len(test_loader)), 3)\n",
    "print(f'Random indices: {random_indices}\\n')\n",
    "\n",
    "for i, data in enumerate(test_loader, 0):\n",
    "    inputs, labels = data\n",
    "    for j in random_indices:\n",
    "        if i == j:\n",
    "            # Obtain predicted class probabilities for the image\n",
    "            image_data = inputs\n",
    "            label = labels\n",
    "\n",
    "            logits_prediction = final_output[i]\n",
    "            prediction_prob = torch.nn.functional.softmax(logits_prediction, dim=0)\n",
    "\n",
    "            prediction = torch.argmax(prediction_prob)\n",
    "            print(f\"Image at index {i} - Predicted Label: {prediction}\")\n",
    "            plt.imshow(image_data.cpu().squeeze(), cmap='gray')\n",
    "            plt.title(f\"Label: {label}\")\n",
    "            plt.show()"
   ],
   "id": "2c56f2101b9ff7c6",
   "outputs": [
    {
     "name": "stdout",
     "output_type": "stream",
     "text": [
      "Random indices: [4185, 5874, 8684]\n",
      "\n",
      "Image at index 4185 - Predicted Label: 1\n"
     ]
    },
    {
     "data": {
      "text/plain": [
       "<Figure size 640x480 with 1 Axes>"
      ],
      "image/png": "[encoded data removed]"
     },
     "metadata": {},
     "output_type": "display_data"
    },
    {
     "name": "stdout",
     "output_type": "stream",
     "text": [
      "Image at index 5874 - Predicted Label: 5\n"
     ]
    },
    {
     "data": {
      "text/plain": [
       "<Figure size 640x480 with 1 Axes>"
      ],
      "image/png": "[encoded data removed]"
     },
     "metadata": {},
     "output_type": "display_data"
    },
    {
     "name": "stdout",
     "output_type": "stream",
     "text": [
      "Image at index 8684 - Predicted Label: 3\n"
     ]
    },
    {
     "data": {
      "text/plain": [
       "<Figure size 640x480 with 1 Axes>"
      ],
      "image/png": "[encoded data removed]"
     },
     "metadata": {},
     "output_type": "display_data"
    }
   ],
   "execution_count": 9
  }
 ],
 "metadata": {
  "kernelspec": {
   "display_name": "Python 3",
   "language": "python",
   "name": "python3"
  },
  "language_info": {
   "codemirror_mode": {
    "name": "ipython",
    "version": 2
   },
   "file_extension": ".py",
   "mimetype": "text/x-python",
   "name": "python",
   "nbconvert_exporter": "python",
   "pygments_lexer": "ipython2",
   "version": "2.7.6"
  }
 },
 "nbformat": 4,
 "nbformat_minor": 5
}
